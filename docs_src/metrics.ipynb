{
 "cells": [
  {
   "cell_type": "markdown",
   "metadata": {},
   "source": [
    "# Training metrics"
   ]
  },
  {
   "cell_type": "markdown",
   "metadata": {},
   "source": [
    "*Metrics* for training fastai models are simply functions that take `input` and `target` tensors, and return some metric of interest for training. You can write your own metrics by defining a function of that type, and passing it to [`Learner`](/basic_train#Learner) in the [code]metrics[/code] parameter, or use one of the following pre-defined functions."
   ]
  },
  {
   "cell_type": "code",
   "execution_count": null,
   "metadata": {
    "hide_input": true
   },
   "outputs": [],
   "source": [
    "from fastai.gen_doc.nbdoc import *\n",
    "from fastai.metrics import * "
   ]
  },
  {
   "cell_type": "markdown",
   "metadata": {},
   "source": [
    "### Predefined metrics:"
   ]
  },
  {
   "cell_type": "code",
   "execution_count": null,
   "metadata": {
    "hide_input": true
   },
   "outputs": [
    {
     "data": {
      "text/markdown": [
       "#### <a id=accuracy></a>`accuracy`\n",
       "> `accuracy`(`input`:`Tensor`, `targs`:`Tensor`) → `Rank0Tensor`\n",
       "\n",
       "\n",
       "Compute accuracy with `targs` when `input` is bs * n_classes.  <a href=\"https://github.com/fastai/fastai/blob/master/fastai/metrics.py#L59\">[source]</a>"
      ],
      "text/plain": [
       "<IPython.core.display.Markdown object>"
      ]
     },
     "metadata": {},
     "output_type": "display_data"
    }
   ],
   "source": [
    "show_doc(accuracy)"
   ]
  },
  {
   "cell_type": "code",
   "execution_count": null,
   "metadata": {
    "hide_input": true
   },
   "outputs": [
    {
     "data": {
      "text/markdown": [
       "#### <a id=accuracy_thresh></a>`accuracy_thresh`\n",
       "> `accuracy_thresh`(`y_pred`:`Tensor`, `y_true`:`Tensor`, `thresh`:`float`=`0.5`, `sigmoid`:`bool`=`True`) → `Rank0Tensor`\n",
       "<a href=\"https://github.com/fastai/fastai/blob/master/fastai/metrics.py#L44\">[source]</a>"
      ],
      "text/plain": [
       "<IPython.core.display.Markdown object>"
      ]
     },
     "metadata": {},
     "output_type": "display_data"
    }
   ],
   "source": [
    "show_doc(accuracy_thresh, doc_string=False)"
   ]
  },
  {
   "cell_type": "markdown",
   "metadata": {},
   "source": [
    "Compute accuracy when `y_pred` and `y_true` for multi-label models, based on comparing predictions to `thresh`, `sigmoid` will be applied to `y_pred` if the corresponding flag is True."
   ]
  },
  {
   "cell_type": "code",
   "execution_count": null,
   "metadata": {
    "hide_input": true
   },
   "outputs": [
    {
     "data": {
      "text/markdown": [
       "#### <a id=dice></a>`dice`\n",
       "> `dice`(`input`:`Tensor`, `targs`:`Tensor`, `iou`:`bool`=`False`) → `Rank0Tensor`\n",
       "\n",
       "\n",
       "Dice coefficient metric for binary target. If iou=True, returns iou metric, classic for segmentation problems.  <a href=\"https://github.com/fastai/fastai/blob/master/fastai/metrics.py#L49\">[source]</a>"
      ],
      "text/plain": [
       "<IPython.core.display.Markdown object>"
      ]
     },
     "metadata": {},
     "output_type": "display_data"
    }
   ],
   "source": [
    "show_doc(dice)"
   ]
  },
  {
   "cell_type": "code",
   "execution_count": null,
   "metadata": {
    "hide_input": true
   },
   "outputs": [
    {
     "data": {
      "text/markdown": [
       "#### <a id=Fbeta></a>`class` `Fbeta`\n",
       "> `Fbeta`(`thresh`:`float`=`0.5`, `beta`:`float`=`2`, `eps`:`float`=`1e-09`, `sigmoid`:`bool`=`True`) :: [`Callback`](/callback#Callback)\n",
       "\n",
       "\n",
       "Fbeta(thresh: float = 0.5, beta: float = 2, eps: float = 1e-09, sigmoid: bool = True)  <a href=\"https://github.com/fastai/fastai/blob/master/fastai/metrics.py#L8\">[source]</a>"
      ],
      "text/plain": [
       "<IPython.core.display.Markdown object>"
      ]
     },
     "metadata": {},
     "output_type": "display_data"
    }
   ],
   "source": [
    "show_doc(Fbeta, title_level=4)"
   ]
  },
  {
   "cell_type": "markdown",
   "metadata": {},
   "source": [
    "See the [F1 score wikipedia page](https://en.wikipedia.org/wiki/F1_score) for details."
   ]
  },
  {
   "cell_type": "code",
   "execution_count": null,
   "metadata": {
    "hide_input": true
   },
   "outputs": [
    {
     "data": {
      "text/markdown": [
       "#### <a id=exp_rmspe></a>`exp_rmspe`\n",
       "> `exp_rmspe`(`pred`:`Tensor`, `targ`:`Tensor`) → `Rank0Tensor`\n",
       "\n",
       "\n",
       "Exp RMSE between `pred` and `targ`.  <a href=\"https://github.com/fastai/fastai/blob/master/fastai/metrics.py#L70\">[source]</a>"
      ],
      "text/plain": [
       "<IPython.core.display.Markdown object>"
      ]
     },
     "metadata": {},
     "output_type": "display_data"
    }
   ],
   "source": [
    "show_doc(exp_rmspe)"
   ]
  }
 ],
 "metadata": {
  "jekyll": {
   "summary": "Useful metrics for training",
   "title": "metrics"
  },
  "kernelspec": {
   "display_name": "Python 3",
   "language": "python",
   "name": "python3"
  }
 },
 "nbformat": 4,
 "nbformat_minor": 2
}
