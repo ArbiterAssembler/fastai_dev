{
 "cells": [
  {
   "cell_type": "markdown",
   "metadata": {},
   "source": [
    "# torch_core"
   ]
  },
  {
   "cell_type": "markdown",
   "metadata": {},
   "source": [
    "This module contains all the basic functions we need in other modules of the fastai library (split with [`core`](/core#core) that contains the ones not requiring pytorch). Its documentation can easily be skipped at a first read, unless you want to know what a given fuction does."
   ]
  },
  {
   "cell_type": "code",
   "execution_count": null,
   "metadata": {
    "hide_input": true
   },
   "outputs": [],
   "source": [
    "from fastai.gen_doc.nbdoc import *\n",
    "from fastai.torch_core import * "
   ]
  },
  {
   "cell_type": "markdown",
   "metadata": {},
   "source": [
    "## Global constants"
   ]
  },
  {
   "cell_type": "markdown",
   "metadata": {},
   "source": [
    "`AdamW = partial(optim.Adam, betas=(0.9,0.99))` <div style=\"text-align: right\"><a href=\"https://github.com/fastai/fastai/blob/master/fastai/torch_core.py#L43\">[source]</a></div>"
   ]
  },
  {
   "cell_type": "markdown",
   "metadata": {},
   "source": [
    "`bn_types = (nn.BatchNorm1d, nn.BatchNorm2d, nn.BatchNorm3d)` <div style=\"text-align: right\"><a href=\"https://github.com/fastai/fastai/blob/master/fastai/torch_core.py#L41\">[source]</a></div>"
   ]
  },
  {
   "cell_type": "markdown",
   "metadata": {},
   "source": [
    "`default_device = torch.device('cuda') if torch.cuda.is_available() else torch.device('cpu')` <div style=\"text-align: right\"><a href=\"https://github.com/fastai/fastai/blob/master/fastai/torch_core.py#L42\">[source]</a></div>"
   ]
  },
  {
   "cell_type": "markdown",
   "metadata": {},
   "source": [
    "## Functions that operate conversions"
   ]
  },
  {
   "cell_type": "code",
   "execution_count": null,
   "metadata": {
    "hide_input": true
   },
   "outputs": [
    {
     "data": {
      "text/markdown": [
       "#### <a id=flatten></a>`flatten`\n",
       "> `flatten`(`m`)\n",
       "<a href=\"https://github.com/fastai/fastai/blob/master/fastai/torch_core.py#L117\">[source]</a>"
      ],
      "text/plain": [
       "<IPython.core.display.Markdown object>"
      ]
     },
     "metadata": {},
     "output_type": "display_data"
    }
   ],
   "source": [
    "show_doc(flatten_model, full_name='flatten')"
   ]
  },
  {
   "cell_type": "markdown",
   "metadata": {},
   "source": [
    "Flattens all the layers of `m`. "
   ]
  },
  {
   "cell_type": "code",
   "execution_count": null,
   "metadata": {
    "hide_input": true
   },
   "outputs": [
    {
     "data": {
      "text/markdown": [
       "#### <a id=model2half></a>`model2half`\n",
       "> `model2half`(`model`:[`Module`](https://pytorch.org/docs/stable/nn#torch.nn.Module)) → [`Module`](https://pytorch.org/docs/stable/nn#torch.nn.Module)\n",
       "\n",
       "\n",
       "Convert `model` to half precision except the batchnorm layers.  <a href=\"https://github.com/fastai/fastai/blob/master/fastai/torch_core.py#L168\">[source]</a>"
      ],
      "text/plain": [
       "<IPython.core.display.Markdown object>"
      ]
     },
     "metadata": {},
     "output_type": "display_data"
    }
   ],
   "source": [
    "show_doc(model2half)"
   ]
  },
  {
   "cell_type": "code",
   "execution_count": null,
   "metadata": {
    "hide_input": true
   },
   "outputs": [
    {
     "data": {
      "text/markdown": [
       "#### <a id=requires_grad></a>`requires_grad`\n",
       "> `requires_grad`(`m`:[`Module`](https://pytorch.org/docs/stable/nn#torch.nn.Module), `b`:`Optional`\\[`bool`\\]=`None`) → `Optional`\\[`bool`\\]\n",
       "<a href=\"https://github.com/fastai/fastai/blob/master/fastai/torch_core.py#L93\">[source]</a>"
      ],
      "text/plain": [
       "<IPython.core.display.Markdown object>"
      ]
     },
     "metadata": {},
     "output_type": "display_data"
    }
   ],
   "source": [
    "show_doc(requires_grad, doc_string=False)"
   ]
  },
  {
   "cell_type": "markdown",
   "metadata": {},
   "source": [
    "If `b` is None, returns the [`requires_grad`](/torch_core#requires_grad) state of the first layer of `m`. Otherwise, sets `requires_grad=b` in all children of `m`."
   ]
  },
  {
   "cell_type": "code",
   "execution_count": null,
   "metadata": {
    "hide_input": true
   },
   "outputs": [
    {
     "data": {
      "text/markdown": [
       "#### <a id=tensor></a>`tensor`\n",
       "> `tensor`(`x`:`Any`) → `Tensor`\n",
       "\n",
       "\n",
       "Like `torch.as_tensor`, but handle lists too  <a href=\"https://github.com/fastai/fastai/blob/master/fastai/torch_core.py#L65\">[source]</a>"
      ],
      "text/plain": [
       "<IPython.core.display.Markdown object>"
      ]
     },
     "metadata": {},
     "output_type": "display_data"
    }
   ],
   "source": [
    "show_doc(tensor)"
   ]
  },
  {
   "cell_type": "markdown",
   "metadata": {},
   "source": [
    "Ensures `x` is a torch `Tensor`."
   ]
  },
  {
   "cell_type": "code",
   "execution_count": null,
   "metadata": {
    "hide_input": true
   },
   "outputs": [
    {
     "data": {
      "text/markdown": [
       "#### <a id=to_data></a>`to_data`\n",
       "> `to_data`(`b`:`ItemsList`)\n",
       "\n",
       "\n",
       "Recursively map lists of items in `b ` to their wrapped data  <a href=\"https://github.com/fastai/fastai/blob/master/fastai/torch_core.py#L78\">[source]</a>"
      ],
      "text/plain": [
       "<IPython.core.display.Markdown object>"
      ]
     },
     "metadata": {},
     "output_type": "display_data"
    }
   ],
   "source": [
    "show_doc(to_data)"
   ]
  },
  {
   "cell_type": "code",
   "execution_count": null,
   "metadata": {
    "hide_input": true
   },
   "outputs": [
    {
     "data": {
      "text/markdown": [
       "#### <a id=to_detach></a>`to_detach`\n",
       "> `to_detach`(`b`:`Tensors`)\n",
       "\n",
       "\n",
       "Recursively detach lists of tensors in `b `  <a href=\"https://github.com/fastai/fastai/blob/master/fastai/torch_core.py#L73\">[source]</a>"
      ],
      "text/plain": [
       "<IPython.core.display.Markdown object>"
      ]
     },
     "metadata": {},
     "output_type": "display_data"
    }
   ],
   "source": [
    "show_doc(to_detach)"
   ]
  },
  {
   "cell_type": "code",
   "execution_count": null,
   "metadata": {
    "hide_input": true
   },
   "outputs": [
    {
     "data": {
      "text/markdown": [
       "#### <a id=to_device></a>`to_device`\n",
       "> `to_device`(`b`:`Tensors`, `device`:[`device`](https://pytorch.org/docs/stable/tensor_attributes.html#torch-device))\n",
       "\n",
       "\n",
       "Ensure `b` is on `device`.  <a href=\"https://github.com/fastai/fastai/blob/master/fastai/torch_core.py#L83\">[source]</a>"
      ],
      "text/plain": [
       "<IPython.core.display.Markdown object>"
      ]
     },
     "metadata": {},
     "output_type": "display_data"
    }
   ],
   "source": [
    "show_doc(to_device)"
   ]
  },
  {
   "cell_type": "code",
   "execution_count": null,
   "metadata": {
    "hide_input": true
   },
   "outputs": [
    {
     "data": {
      "text/markdown": [
       "#### <a id=to_half></a>`to_half`\n",
       "> `to_half`(`b`:`Collection`\\[`Tensor`\\]) → `Collection`\\[`Tensor`\\]\n",
       "<a href=\"https://github.com/fastai/fastai/blob/master/fastai/torch_core.py#L158\">[source]</a>"
      ],
      "text/plain": [
       "<IPython.core.display.Markdown object>"
      ]
     },
     "metadata": {},
     "output_type": "display_data"
    }
   ],
   "source": [
    "show_doc(to_half, doc_string=False)"
   ]
  },
  {
   "cell_type": "markdown",
   "metadata": {},
   "source": [
    "Put the input of the batch `b` in half precision."
   ]
  },
  {
   "cell_type": "code",
   "execution_count": null,
   "metadata": {
    "hide_input": true
   },
   "outputs": [
    {
     "data": {
      "text/markdown": [
       "#### <a id=to_np></a>`to_np`\n",
       "> `to_np`(`x`)\n",
       "<a href=\"https://github.com/fastai/fastai/blob/master/fastai/torch_core.py#L200\">[source]</a>"
      ],
      "text/plain": [
       "<IPython.core.display.Markdown object>"
      ]
     },
     "metadata": {},
     "output_type": "display_data"
    }
   ],
   "source": [
    "show_doc(to_np)"
   ]
  },
  {
   "cell_type": "markdown",
   "metadata": {},
   "source": [
    "Convert `x` to a numpy array."
   ]
  },
  {
   "cell_type": "markdown",
   "metadata": {},
   "source": [
    "## Functions to deal with model initialization"
   ]
  },
  {
   "cell_type": "code",
   "execution_count": null,
   "metadata": {
    "hide_input": true
   },
   "outputs": [
    {
     "data": {
      "text/markdown": [
       "#### <a id=apply_init></a>`apply_init`\n",
       "> `apply_init`(`m`, `init_func`:`LayerFunc`)\n",
       "\n",
       "\n",
       "Initialize all non-batchnorm layers of `m` with `init_func`.  <a href=\"https://github.com/fastai/fastai/blob/master/fastai/torch_core.py#L184\">[source]</a>"
      ],
      "text/plain": [
       "<IPython.core.display.Markdown object>"
      ]
     },
     "metadata": {},
     "output_type": "display_data"
    }
   ],
   "source": [
    "show_doc(apply_init)"
   ]
  },
  {
   "cell_type": "code",
   "execution_count": null,
   "metadata": {
    "hide_input": true
   },
   "outputs": [
    {
     "data": {
      "text/markdown": [
       "#### <a id=apply_leaf></a>`apply_leaf`\n",
       "> `apply_leaf`(`m`:[`Module`](https://pytorch.org/docs/stable/nn#torch.nn.Module), `f`:`LayerFunc`)\n",
       "\n",
       "\n",
       "Apply `f` to children of `m`.  <a href=\"https://github.com/fastai/fastai/blob/master/fastai/torch_core.py#L178\">[source]</a>"
      ],
      "text/plain": [
       "<IPython.core.display.Markdown object>"
      ]
     },
     "metadata": {},
     "output_type": "display_data"
    }
   ],
   "source": [
    "show_doc(apply_leaf)"
   ]
  },
  {
   "cell_type": "code",
   "execution_count": null,
   "metadata": {
    "hide_input": true
   },
   "outputs": [
    {
     "data": {
      "text/markdown": [
       "#### <a id=cond_init></a>`cond_init`\n",
       "> `cond_init`(`m`:[`Module`](https://pytorch.org/docs/stable/nn#torch.nn.Module), `init_func`:`LayerFunc`)\n",
       "\n",
       "\n",
       "Initialize the non-batchnorm layers of `m` with `init_func`  <a href=\"https://github.com/fastai/fastai/blob/master/fastai/torch_core.py#L172\">[source]</a>"
      ],
      "text/plain": [
       "<IPython.core.display.Markdown object>"
      ]
     },
     "metadata": {},
     "output_type": "display_data"
    }
   ],
   "source": [
    "show_doc(cond_init)"
   ]
  },
  {
   "cell_type": "code",
   "execution_count": null,
   "metadata": {
    "hide_input": true
   },
   "outputs": [
    {
     "data": {
      "text/markdown": [
       "#### <a id=in_channels></a>`in_channels`\n",
       "> `in_channels`(`m`:[`Module`](https://pytorch.org/docs/stable/nn#torch.nn.Module)) → `List`\\[`int`\\]\n",
       "\n",
       "\n",
       "Return the shape of the first weight layer in `m`.  <a href=\"https://github.com/fastai/fastai/blob/master/fastai/torch_core.py#L188\">[source]</a>"
      ],
      "text/plain": [
       "<IPython.core.display.Markdown object>"
      ]
     },
     "metadata": {},
     "output_type": "display_data"
    }
   ],
   "source": [
    "show_doc(in_channels)"
   ]
  },
  {
   "cell_type": "markdown",
   "metadata": {},
   "source": [
    "## Function that deal get informations on a Model"
   ]
  },
  {
   "cell_type": "code",
   "execution_count": null,
   "metadata": {
    "hide_input": true
   },
   "outputs": [
    {
     "data": {
      "text/markdown": [
       "#### <a id=children></a>`children`\n",
       "> `children`(`m`:[`Module`](https://pytorch.org/docs/stable/nn#torch.nn.Module)) → `ModuleList`\n",
       "\n",
       "\n",
       "Get children of module `m`.  <a href=\"https://github.com/fastai/fastai/blob/master/fastai/torch_core.py#L105\">[source]</a>"
      ],
      "text/plain": [
       "<IPython.core.display.Markdown object>"
      ]
     },
     "metadata": {},
     "output_type": "display_data"
    }
   ],
   "source": [
    "show_doc(children)"
   ]
  },
  {
   "cell_type": "code",
   "execution_count": null,
   "metadata": {
    "hide_input": true
   },
   "outputs": [
    {
     "data": {
      "text/markdown": [
       "#### <a id=first_layer></a>`first_layer`\n",
       "> `first_layer`(`m`:[`Module`](https://pytorch.org/docs/stable/nn#torch.nn.Module)) → [`Module`](https://pytorch.org/docs/stable/nn#torch.nn.Module)\n",
       "\n",
       "\n",
       "Retrieve first layer in a module `m`.  <a href=\"https://github.com/fastai/fastai/blob/master/fastai/torch_core.py#L118\">[source]</a>"
      ],
      "text/plain": [
       "<IPython.core.display.Markdown object>"
      ]
     },
     "metadata": {},
     "output_type": "display_data"
    }
   ],
   "source": [
    "show_doc(first_layer)"
   ]
  },
  {
   "cell_type": "code",
   "execution_count": null,
   "metadata": {
    "hide_input": true
   },
   "outputs": [
    {
     "data": {
      "text/markdown": [
       "#### <a id=num_children></a>`num_children`\n",
       "> `num_children`(`m`:[`Module`](https://pytorch.org/docs/stable/nn#torch.nn.Module)) → `int`\n",
       "\n",
       "\n",
       "Get number of children modules in module `m`.  <a href=\"https://github.com/fastai/fastai/blob/master/fastai/torch_core.py#L109\">[source]</a>"
      ],
      "text/plain": [
       "<IPython.core.display.Markdown object>"
      ]
     },
     "metadata": {},
     "output_type": "display_data"
    }
   ],
   "source": [
    "show_doc(num_children)"
   ]
  },
  {
   "cell_type": "code",
   "execution_count": null,
   "metadata": {
    "hide_input": true
   },
   "outputs": [
    {
     "data": {
      "text/markdown": [
       "#### <a id=range_children></a>`range_children`\n",
       "> `range_children`(`m`:[`Module`](https://pytorch.org/docs/stable/nn#torch.nn.Module)) → `Iterator`\\[`int`\\]\n",
       "\n",
       "\n",
       "Return iterator of len of children of `m`.  <a href=\"https://github.com/fastai/fastai/blob/master/fastai/torch_core.py#L113\">[source]</a>"
      ],
      "text/plain": [
       "<IPython.core.display.Markdown object>"
      ]
     },
     "metadata": {},
     "output_type": "display_data"
    }
   ],
   "source": [
    "show_doc(range_children)"
   ]
  },
  {
   "cell_type": "code",
   "execution_count": null,
   "metadata": {
    "hide_input": true
   },
   "outputs": [
    {
     "data": {
      "text/markdown": [
       "#### <a id=trainable_params></a>`trainable_params`\n",
       "> `trainable_params`(`m`:[`Module`](https://pytorch.org/docs/stable/nn#torch.nn.Module)) → `ParamList`\n",
       "\n",
       "\n",
       "Return list of trainable params in `m`.  <a href=\"https://github.com/fastai/fastai/blob/master/fastai/torch_core.py#L100\">[source]</a>"
      ],
      "text/plain": [
       "<IPython.core.display.Markdown object>"
      ]
     },
     "metadata": {},
     "output_type": "display_data"
    }
   ],
   "source": [
    "show_doc(trainable_params)"
   ]
  },
  {
   "cell_type": "markdown",
   "metadata": {},
   "source": [
    "## Functions to deal with BatchNorm layers"
   ]
  },
  {
   "cell_type": "code",
   "execution_count": null,
   "metadata": {
    "hide_input": true
   },
   "outputs": [
    {
     "data": {
      "text/markdown": [
       "#### <a id=bn2float></a>`bn2float`\n",
       "> `bn2float`(`module`:[`Module`](https://pytorch.org/docs/stable/nn#torch.nn.Module)) → [`Module`](https://pytorch.org/docs/stable/nn#torch.nn.Module)\n",
       "\n",
       "\n",
       "If `module` is batchnorm don't use half precision.  <a href=\"https://github.com/fastai/fastai/blob/master/fastai/torch_core.py#L162\">[source]</a>"
      ],
      "text/plain": [
       "<IPython.core.display.Markdown object>"
      ]
     },
     "metadata": {},
     "output_type": "display_data"
    }
   ],
   "source": [
    "show_doc(bn2float)"
   ]
  },
  {
   "cell_type": "code",
   "execution_count": null,
   "metadata": {
    "hide_input": true
   },
   "outputs": [
    {
     "data": {
      "text/markdown": [
       "#### <a id=set_bn_eval></a>`set_bn_eval`\n",
       "> `set_bn_eval`(`m`:[`Module`](https://pytorch.org/docs/stable/nn#torch.nn.Module))\n",
       "\n",
       "\n",
       "Set bn layers in eval mode for all recursive children of `m`.  <a href=\"https://github.com/fastai/fastai/blob/master/fastai/torch_core.py#L151\">[source]</a>"
      ],
      "text/plain": [
       "<IPython.core.display.Markdown object>"
      ]
     },
     "metadata": {},
     "output_type": "display_data"
    }
   ],
   "source": [
    "show_doc(set_bn_eval)"
   ]
  },
  {
   "cell_type": "code",
   "execution_count": null,
   "metadata": {
    "hide_input": true
   },
   "outputs": [
    {
     "data": {
      "text/markdown": [
       "#### <a id=split_bn_bias></a>`split_bn_bias`\n",
       "> `split_bn_bias`(`layer_groups`:`ModuleList`) → `ModuleList`\n",
       "\n",
       "\n",
       "Sort each layer in  `layer_groups` into batchnorm (`bn_types`) and non-batchnorm groups.  <a href=\"https://github.com/fastai/fastai/blob/master/fastai/torch_core.py#L140\">[source]</a>"
      ],
      "text/plain": [
       "<IPython.core.display.Markdown object>"
      ]
     },
     "metadata": {},
     "output_type": "display_data"
    }
   ],
   "source": [
    "show_doc(split_bn_bias)"
   ]
  },
  {
   "cell_type": "markdown",
   "metadata": {},
   "source": [
    "## Other functions"
   ]
  },
  {
   "cell_type": "code",
   "execution_count": null,
   "metadata": {
    "hide_input": true
   },
   "outputs": [
    {
     "data": {
      "text/markdown": [
       "#### <a id=calc_loss></a>`calc_loss`\n",
       "> `calc_loss`(`y_pred`:`Tensor`, `y_true`:`Tensor`, `loss_class`:`type`=`'CrossEntropyLoss'`, `bs`=`64`)\n",
       "\n",
       "\n",
       "Calculate loss between `y_pred` and `y_true` using `loss_class` and `bs`.  <a href=\"https://github.com/fastai/fastai/blob/master/fastai/torch_core.py#L194\">[source]</a>"
      ],
      "text/plain": [
       "<IPython.core.display.Markdown object>"
      ]
     },
     "metadata": {},
     "output_type": "display_data"
    }
   ],
   "source": [
    "show_doc(calc_loss)"
   ]
  },
  {
   "cell_type": "code",
   "execution_count": null,
   "metadata": {
    "hide_input": true
   },
   "outputs": [
    {
     "data": {
      "text/markdown": [
       "#### <a id=data_collate></a>`data_collate`\n",
       "> `data_collate`(`batch`:`ItemsList`) → `Tensor`\n",
       "\n",
       "\n",
       "Convert `batch` items to tensor data.  <a href=\"https://github.com/fastai/fastai/blob/master/fastai/torch_core.py#L89\">[source]</a>"
      ],
      "text/plain": [
       "<IPython.core.display.Markdown object>"
      ]
     },
     "metadata": {},
     "output_type": "display_data"
    }
   ],
   "source": [
    "show_doc(data_collate)"
   ]
  },
  {
   "cell_type": "code",
   "execution_count": null,
   "metadata": {
    "hide_input": true
   },
   "outputs": [
    {
     "data": {
      "text/markdown": [
       "#### <a id=split_model></a>`split_model`\n",
       "> `split_model`(`model`:[`Module`](https://pytorch.org/docs/stable/nn#torch.nn.Module), `splits`:`Collection`\\[`Union`\\[[`Module`](https://pytorch.org/docs/stable/nn#torch.nn.Module), `ModuleList`\\]\\], `want_idxs`:`bool`=`False`)\n",
       "<a href=\"https://github.com/fastai/fastai/blob/master/fastai/torch_core.py#L129\">[source]</a>"
      ],
      "text/plain": [
       "<IPython.core.display.Markdown object>"
      ]
     },
     "metadata": {},
     "output_type": "display_data"
    }
   ],
   "source": [
    "show_doc(split_model, doc_string=False)"
   ]
  },
  {
   "cell_type": "markdown",
   "metadata": {},
   "source": [
    "Splits the `model` according to the layer in `splits`. If `splits` are layers, the model is split at those (not included) sequentially. If `want_idxs` is True, the corresponding indexes are returned. If `splits` are lists of layers, the model is split according to those."
   ]
  },
  {
   "cell_type": "code",
   "execution_count": null,
   "metadata": {
    "hide_input": true
   },
   "outputs": [
    {
     "data": {
      "text/markdown": [
       "#### <a id=split_model_idx></a>`split_model_idx`\n",
       "> `split_model_idx`(`model`:[`Module`](https://pytorch.org/docs/stable/nn#torch.nn.Module), `idxs`:`Collection`\\[`int`\\]) → `ModuleList`\n",
       "\n",
       "\n",
       "Split `model` according to the indices in `idxs`.  <a href=\"https://github.com/fastai/fastai/blob/master/fastai/torch_core.py#L122\">[source]</a>"
      ],
      "text/plain": [
       "<IPython.core.display.Markdown object>"
      ]
     },
     "metadata": {},
     "output_type": "display_data"
    }
   ],
   "source": [
    "show_doc(split_model_idx)"
   ]
  },
  {
   "cell_type": "markdown",
   "metadata": {},
   "source": [
    "## Undocumented Methods - Methods moved below this line will intentionally be hidden"
   ]
  },
  {
   "cell_type": "markdown",
   "metadata": {},
   "source": [
    "## New Methods - Please document or move to the undocumented section"
   ]
  }
 ],
 "metadata": {
  "jekyll": {
   "summary": "Basic functions using pytorch",
   "title": "torch_core"
  },
  "kernelspec": {
   "display_name": "Python 3",
   "language": "python",
   "name": "python3"
  }
 },
 "nbformat": 4,
 "nbformat_minor": 2
}
