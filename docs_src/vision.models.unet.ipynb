{
 "cells": [
  {
   "cell_type": "markdown",
   "metadata": {},
   "source": [
    "# Dynamic U-Net"
   ]
  },
  {
   "cell_type": "markdown",
   "metadata": {},
   "source": [
    "This module builds a dynamic [U-Net](https://arxiv.org/abs/1505.04597) from any backbone pretrained on ImageNet, automatically inferring the intermediate sizes."
   ]
  },
  {
   "cell_type": "code",
   "execution_count": null,
   "metadata": {
    "hide_input": true
   },
   "outputs": [],
   "source": [
    "from fastai.gen_doc.nbdoc import *\n",
    "from fastai.vision.models.unet import * "
   ]
  },
  {
   "cell_type": "markdown",
   "metadata": {},
   "source": [
    "![U-Net architecure](imgs/u-net-architecture.png)\n",
    "\n",
    "This is the original U-Net. The difference here is that the left part is a pretrained model."
   ]
  },
  {
   "cell_type": "code",
   "execution_count": null,
   "metadata": {
    "hide_input": true
   },
   "outputs": [
    {
     "data": {
      "text/markdown": [
       "## <a id=DynamicUnet></a>`class` `DynamicUnet`\n",
       "> `DynamicUnet`(`encoder`:[`Module`](https://pytorch.org/docs/stable/nn#torch.nn.Module), `n_classes`:`int`) :: [`Sequential`](https://pytorch.org/docs/stable/nn#torch.nn.Sequential)\n",
       "<a href=\"https://github.com/fastai/fastai/blob/master/fastai/vision/models/unet.py#L34\">[source]</a>"
      ],
      "text/plain": [
       "<IPython.core.display.Markdown object>"
      ]
     },
     "metadata": {},
     "output_type": "display_data"
    }
   ],
   "source": [
    "show_doc(DynamicUnet, doc_string=False)"
   ]
  },
  {
   "cell_type": "markdown",
   "metadata": {},
   "source": [
    "Builds a U-Net from a given `encoder` (that can be a pretrained model) and with a final output of `n_classes`. During the initialization, it uses [`Hooks`](/callbacks.hooks#Hooks) to determine the intermediate features sizes by passing a dummy input throught the model. "
   ]
  },
  {
   "cell_type": "code",
   "execution_count": null,
   "metadata": {
    "hide_input": true
   },
   "outputs": [
    {
     "data": {
      "text/markdown": [
       "## <a id=UnetBlock></a>`class` `UnetBlock`\n",
       "> `UnetBlock`(`up_in_c`:`int`, `x_in_c`:`int`, `hook`:[`Hook`](/callbacks.hooks#Hook)) :: [`Module`](https://pytorch.org/docs/stable/nn#torch.nn.Module)\n",
       "<a href=\"https://github.com/fastai/fastai/blob/master/fastai/vision/models/unet.py#L14\">[source]</a>"
      ],
      "text/plain": [
       "<IPython.core.display.Markdown object>"
      ]
     },
     "metadata": {},
     "output_type": "display_data"
    }
   ],
   "source": [
    "show_doc(UnetBlock, doc_string=False)"
   ]
  },
  {
   "cell_type": "markdown",
   "metadata": {},
   "source": [
    "Builds a U-Net block that receives the output of the last block to be upsampled (size `up_in_c`) and the activations features from an intermediate layer of the `encoder` (size `x_in_c`, this is the lateral connection). The `hook` is set to this intermediate layer to store the output needed for this block."
   ]
  }
 ],
 "metadata": {
  "jekyll": {
   "summary": "Dynamic Unet that can use any pretrained model as a backbone.",
   "title": "vision.models.unet"
  },
  "kernelspec": {
   "display_name": "Python 3",
   "language": "python",
   "name": "python3"
  }
 },
 "nbformat": 4,
 "nbformat_minor": 2
}
