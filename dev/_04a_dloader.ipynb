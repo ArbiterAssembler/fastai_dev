{
 "cells": [
  {
   "cell_type": "markdown",
   "metadata": {},
   "source": [
    "# Data loader experiments"
   ]
  },
  {
   "cell_type": "code",
   "execution_count": null,
   "metadata": {},
   "outputs": [],
   "source": [
    "#export\n",
    "from local.imports import *\n",
    "from local.test import *\n",
    "from local.core import *\n",
    "from local.data import *\n",
    "from local.notebook.showdoc import show_doc"
   ]
  },
  {
   "cell_type": "markdown",
   "metadata": {},
   "source": [
    "## patch \\_MapDatasetFetcher "
   ]
  },
  {
   "cell_type": "code",
   "execution_count": null,
   "metadata": {},
   "outputs": [],
   "source": [
    "@patch\n",
    "def fetch(self:torch.utils.data._utils.fetch._MapDatasetFetcher, idxs):\n",
    "    ds = self.dataset\n",
    "    if self.auto_collation:\n",
    "        if hasattr(self.collate_fn,\"get_batch\"): return self.collate_fn.get_batch(ds, idxs)\n",
    "        data = [ds[idx] for idx in idxs]\n",
    "    else: data = ds[idxs]\n",
    "    return self.collate_fn(data)"
   ]
  },
  {
   "cell_type": "code",
   "execution_count": null,
   "metadata": {},
   "outputs": [],
   "source": [
    "class CustCollate:\n",
    "    def __init__(self, cf=default_collate): self.cf=cf\n",
    "    def __call__(self, *args, **kwargs): self.cf(*args, **kwargs)\n",
    "    def get_batch(self, ds, idxs): return self([ds[idx] for idx in idxs])"
   ]
  },
  {
   "cell_type": "code",
   "execution_count": null,
   "metadata": {},
   "outputs": [],
   "source": [
    "ds = string.ascii_lowercase\n",
    "dl = DataLoader(ds, batch_size=4, num_workers=0)#, collate_fn=CustCollate())"
   ]
  },
  {
   "cell_type": "code",
   "execution_count": null,
   "metadata": {},
   "outputs": [
    {
     "data": {
      "text/plain": [
       "['abcd', 'efgh', 'ijkl', 'mnop', 'qrst', 'uvwx', 'yz']"
      ]
     },
     "execution_count": null,
     "metadata": {},
     "output_type": "execute_result"
    }
   ],
   "source": [
    "[''.join(o) for o in dl]"
   ]
  },
  {
   "cell_type": "markdown",
   "metadata": {},
   "source": [
    "## fin"
   ]
  },
  {
   "cell_type": "code",
   "execution_count": null,
   "metadata": {},
   "outputs": [],
   "source": []
  }
 ],
 "metadata": {
  "kernelspec": {
   "display_name": "Python 3",
   "language": "python",
   "name": "python3"
  }
 },
 "nbformat": 4,
 "nbformat_minor": 2
}
