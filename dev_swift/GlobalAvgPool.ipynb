{
 "cells": [
  {
   "cell_type": "code",
   "execution_count": null,
   "metadata": {},
   "outputs": [],
   "source": [
    "import TensorFlow"
   ]
  },
  {
   "cell_type": "code",
   "execution_count": null,
   "metadata": {},
   "outputs": [],
   "source": [
    "public struct aModel: Layer {\n",
    "    public var conv = Conv2D<Float>(\n",
    "        filterShape: (3, 3, 16, 32), \n",
    "        strides: (2, 2), \n",
    "        padding: .same, \n",
    "        activation: relu)\n",
    "    public var pool = GlobalAvgPool2D<Float>()\n",
    "    public var linear = Dense<Float>(inputSize: 32, outputSize: 10)\n",
    "    \n",
    "    @differentiable\n",
    "    public func call(_ input: Tensor<Float>) -> Tensor<Float> {\n",
    "        return input.sequenced(through: conv, pool, linear)\n",
    "    }\n",
    "}"
   ]
  },
  {
   "cell_type": "code",
   "execution_count": null,
   "metadata": {},
   "outputs": [],
   "source": [
    "var model = aModel()"
   ]
  },
  {
   "cell_type": "code",
   "execution_count": null,
   "metadata": {},
   "outputs": [],
   "source": [
    "let x = Tensor<Float>(randomNormal: [64, 10, 10, 16])"
   ]
  },
  {
   "cell_type": "code",
   "execution_count": null,
   "metadata": {},
   "outputs": [],
   "source": [
    "let pred = model(x)\n",
    "pred.shape"
   ]
  },
  {
   "cell_type": "code",
   "execution_count": null,
   "metadata": {},
   "outputs": [],
   "source": [
    "let y = Tensor<Float>(randomNormal: [64, 10])"
   ]
  },
  {
   "cell_type": "code",
   "execution_count": null,
   "metadata": {},
   "outputs": [],
   "source": [
    "let (loss, grad) = model.valueWithGradient {model -> Tensor<Float> in\n",
    "    return meanSquaredError(predicted: model(x), expected: y)}"
   ]
  },
  {
   "cell_type": "code",
   "execution_count": null,
   "metadata": {},
   "outputs": [],
   "source": [
    "let x = Tensor<Float>(randomNormal: [64, 10, 10, 16])\n",
    "let y = Tensor<Float>(randomNormal: [64, 16])"
   ]
  },
  {
   "cell_type": "code",
   "execution_count": null,
   "metadata": {},
   "outputs": [],
   "source": [
    "let z = x.mean(squeezingAxes: [1, 2])\n",
    "(y-z).mean()"
   ]
  },
  {
   "cell_type": "code",
   "execution_count": null,
   "metadata": {},
   "outputs": [],
   "source": [
    "let z = x.mean2(squeezingAxes: [1, 2])\n",
    "(y-z).mean()"
   ]
  },
  {
   "cell_type": "code",
   "execution_count": null,
   "metadata": {},
   "outputs": [],
   "source": [
    "let x = Tensor<Float>(randomNormal: [64, 10, 10, 16])\n",
    "let y = Tensor<Float>(randomNormal: [64, 16])"
   ]
  },
  {
   "cell_type": "code",
   "execution_count": null,
   "metadata": {},
   "outputs": [],
   "source": [
    "let (loss, grad) = valueWithGradient(at: x) { x -> Tensor<Float> in\n",
    "    return (y-x.mean2(squeezingAxes: [1,2])).mean()}"
   ]
  },
  {
   "cell_type": "code",
   "execution_count": null,
   "metadata": {},
   "outputs": [],
   "source": [
    "let input = Tensor<Float>(ones: [2, 2])\n",
    "let expected = Tensor<Float>(repeating: 0.25, shape: [2, 2])"
   ]
  },
  {
   "cell_type": "code",
   "execution_count": null,
   "metadata": {},
   "outputs": [],
   "source": [
    "let meanGradSqueezingAxes = gradient { (a: Tensor<Float>) in a.mean2(squeezingAxes: [0, 1]) }"
   ]
  },
  {
   "cell_type": "code",
   "execution_count": null,
   "metadata": {},
   "outputs": [],
   "source": [
    "meanGradSqueezingAxes(input)"
   ]
  },
  {
   "cell_type": "code",
   "execution_count": null,
   "metadata": {},
   "outputs": [],
   "source": [
    "x.shape"
   ]
  },
  {
   "cell_type": "code",
   "execution_count": null,
   "metadata": {},
   "outputs": [],
   "source": [
    "x.shapeTensor"
   ]
  },
  {
   "cell_type": "code",
   "execution_count": null,
   "metadata": {},
   "outputs": [],
   "source": [
    "value.expandingShape(at: [1,2]).broadcast(toShape: [64, 10, 10, 16])"
   ]
  },
  {
   "cell_type": "code",
   "execution_count": null,
   "metadata": {},
   "outputs": [],
   "source": [
    "Raw.un"
   ]
  },
  {
   "cell_type": "code",
   "execution_count": null,
   "metadata": {},
   "outputs": [],
   "source": [
    "extension Tensor where Scalar: TensorFlowFloatingPoint{\n",
    "  @inlinable\n",
    "  func _vjpMean2(\n",
    "    squeezingAxes axes: Tensor<Int32>\n",
    "  ) -> (Tensor, (Tensor) -> Tensor) {\n",
    "    let value = mean(squeezingAxes: axes)\n",
    "    let count = Raw.gather(params: shapeTensor, indices: axes).product()\n",
    "    return (value, { [shape = shapeTensor] in\n",
    "      var res = $0\n",
    "      for i in axes.array.scalars { res = res.expandingShape(at: Int(i)) }              \n",
    "      return res.broadcast(toShape: shape) / Tensor(count)\n",
    "    })\n",
    "  }\n",
    "    \n",
    "  @inlinable @inline(__always)\n",
    "  @differentiable(\n",
    "    wrt: self, vjp: _vjpMean2(squeezingAxes:)\n",
    "  )\n",
    "  func mean2(squeezingAxes axes: Tensor<Int32>) -> Tensor {\n",
    "    return Raw.mean(self, reductionIndices: axes, keepDims: false)\n",
    "  }\n",
    "    \n",
    "  @inlinable\n",
    "  func _vjpSum2(\n",
    "    squeezingAxes axes: Tensor<Int32>\n",
    "  ) -> (Tensor, (Tensor) -> Tensor) {\n",
    "    let value = sum(squeezingAxes: axes)\n",
    "    return (value, { [shape = shapeTensor] in \n",
    "      var res = $0 \n",
    "      for i in axes.array.scalars { res = res.expandingShape(at: Int(i)) }\n",
    "      return res.broadcast(toShape: shape) \n",
    "    })\n",
    "  }\n",
    "}"
   ]
  },
  {
   "cell_type": "code",
   "execution_count": null,
   "metadata": {},
   "outputs": [],
   "source": []
  }
 ],
 "metadata": {
  "kernelspec": {
   "display_name": "Swift",
   "language": "swift",
   "name": "swift"
  }
 },
 "nbformat": 4,
 "nbformat_minor": 2
}
