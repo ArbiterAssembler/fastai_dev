{
  "nbformat": 4,
  "nbformat_minor": 0,
  "metadata": {
    "colab": {
      "name": "04_callbacks.ipynb",
      "version": "0.3.2",
      "provenance": [],
      "collapsed_sections": []
    },
    "kernelspec": {
      "name": "swift",
      "display_name": "Swift"
    }
  },
  "cells": [
    {
      "metadata": {
        "id": "KI6SVHpoYYGK",
        "colab_type": "text"
      },
      "cell_type": "markdown",
      "source": [
        "## Notes\n",
        "\n",
        "Porting `class Runner` to Swift is a WIP.\n",
        "\n",
        "* `TrainerCallback` is a class, not a protocol, because `Trainer` needs to store a `[TrainerCallback]` array.\n",
        "\n",
        "Todos:\n",
        "* Improve naming, currently many names come directly from Python"
      ]
    },
    {
      "metadata": {
        "id": "sGboSX5GYVyg",
        "colab_type": "code",
        "outputId": "ab4dcc94-053c-4883-e3c1-40c2c0c363ef",
        "colab": {
          "base_uri": "https://localhost:8080/",
          "height": 589
        }
      },
      "cell_type": "code",
      "source": [
        "import TensorFlow\n",
        "\n",
        "enum CallbackKind {\n",
        "    case begin_batch\n",
        "    case after_pred\n",
        "    case after_loss\n",
        "    case after_backward\n",
        "    case after_step\n",
        "    case after_batch\n",
        "\n",
        "    case begin_fit\n",
        "    case begin_epoch\n",
        "    case begin_validate\n",
        "    case after_epoch\n",
        "    case after_fit\n",
        "}\n",
        "\n",
        "open class TrainerCallback<Model : Layer, Opt : Optimizer> {\n",
        "    public typealias Callback = () -> Void\n",
        "    open var begin_batch: Callback? { return nil }\n",
        "    open var after_pred: Callback? { return nil }\n",
        "    open var after_loss: Callback? { return nil }\n",
        "    open var after_backward: Callback? { return nil }\n",
        "    open var after_step: Callback? { return nil }\n",
        "    open var after_batch: Callback? { return nil }\n",
        "\n",
        "    open var begin_fit: Callback? { return nil }\n",
        "    open var begin_epoch: Callback? { return nil }\n",
        "    open var begin_validate: Callback? { return nil }\n",
        "    open var after_epoch: Callback? { return nil }\n",
        "    open var after_fit: Callback? { return nil }\n",
        "\n",
        "    func callback(_ kind: CallbackKind) -> Callback? {\n",
        "        switch kind {\n",
        "        case .begin_batch: return begin_batch\n",
        "        case .after_pred: return after_pred\n",
        "        case .after_loss: return after_loss\n",
        "        case .after_backward: return after_backward\n",
        "        case .after_step: return after_step\n",
        "        case .after_batch: return after_batch\n",
        "\n",
        "        case .begin_fit: return begin_fit\n",
        "        case .begin_epoch: return begin_epoch\n",
        "        case .begin_validate: return begin_validate\n",
        "        case .after_epoch: return after_epoch\n",
        "        case .after_fit: return after_fit\n",
        "        }\n",
        "    }\n",
        "}\n",
        "\n",
        "final class TrainingEvaluationCallback<Model, Opt: Optimizer>: TrainerCallback<Model, Opt>\n",
        "    where Opt.Model == Model, Opt.Scalar : TensorFlowFloatingPoint,\n",
        "          Model.Input == Tensor<Opt.Scalar>,\n",
        "          Model.Output == Tensor<Opt.Scalar>\n",
        "{\n",
        "    var trainer: Trainer<Model, Opt>\n",
        "    init(trainer: Trainer<Model, Opt>) {\n",
        "        self.trainer = trainer\n",
        "    }\n",
        "\n",
        "    var epochCount: Float = 0\n",
        "    var iterationCount: Int = 0\n",
        "\n",
        "    override var begin_fit: Callback {\n",
        "        return {\n",
        "            self.epochCount = 0\n",
        "            self.iterationCount = 0\n",
        "        }\n",
        "    } \n",
        "\n",
        "    override var after_batch: Callback {\n",
        "        return {\n",
        "            guard self.trainer.isTraining else { return }\n",
        "            self.epochCount += 1 / Float(self.iterationCount)\n",
        "            self.iterationCount += 1\n",
        "        }\n",
        "    }\n",
        "\n",
        "    override var begin_epoch: Callback {\n",
        "        return {\n",
        "            self.epochCount = Float(self.trainer.epochCount)\n",
        "            // NOTE: `module.train()` is an API from PyTorch.\n",
        "            // It changes all layers (notably dropout and batchnorm) to work in training mode.\n",
        "            // We cannot represent this because our training flag is passed as an argument (in `Context`).\n",
        "            // trainer.learner.model.train()\n",
        "            self.trainer.isTraining = true\n",
        "        }\n",
        "    }\n",
        "\n",
        "    override var begin_validate: Callback {\n",
        "        return {\n",
        "            // NOTE: `module.eval()` is an API from PyTorch.\n",
        "            // It changes all layers (notably dropout and batchnorm) to work in inference mode.\n",
        "            // We cannot represent this because our training flag is passed as an argument (in `Context`).\n",
        "            // trainer.model.eval()\n",
        "            self.trainer.isTraining = false\n",
        "        }\n",
        "    }\n",
        "}\n",
        "\n",
        "class AverageStatistics<Model : Layer> {\n",
        "    // typealias Metric = (Tensor<Float>, Tensor<Float>) -> Tensor<Float>\n",
        "    typealias Metric = (Model.Output, Model.Output) -> Tensor<Float>\n",
        "\n",
        "    var metrics: [Metric]\n",
        "    var isTraining: Bool\n",
        "\n",
        "    var totalLoss: Tensor<Float> = Tensor(0)\n",
        "    var count: Int = 0\n",
        "    var totalMetrices: [Tensor<Float>] = []\n",
        "\n",
        "    init(_ metrics: [Metric], isTraining: Bool) {\n",
        "        self.metrics = metrics\n",
        "        self.isTraining = isTraining\n",
        "    }\n",
        "\n",
        "    func reset() {\n",
        "        totalLoss = Tensor<Float>(0)\n",
        "        count = 0\n",
        "        totalMetrices = Array(repeating: Tensor(0), count: metrics.count)\n",
        "    }\n",
        "\n",
        "    var allStatistics: [Tensor<Float>] {\n",
        "        return [totalLoss] + totalMetrices\n",
        "    }\n",
        "\n",
        "    var averageStatistics: [Tensor<Float>] {\n",
        "        return allStatistics.map { $0 / Float(count) }\n",
        "    }\n",
        "\n",
        "    func accumulate<Opt>(trainer: Trainer<Model, Opt>) where Model == Opt.Model {\n",
        "        let batchSize = trainer.data.shape[0]\n",
        "        self.totalLoss += trainer.loss * Float(batchSize)\n",
        "        self.count += Int(batchSize)\n",
        "        for (i, metric) in metrics.enumerated() {\n",
        "            self.totalMetrices[i] += metric(trainer.prediction, trainer.labels) * Float(batchSize)\n",
        "        }\n",
        "    }\n",
        "}\n",
        "\n",
        "final class AverageStatisticsCallback<Model : Layer, Opt : Optimizer> : TrainerCallback<Model, Opt>\n",
        "    where Opt.Model == Model, Opt.Scalar : TensorFlowFloatingPoint,\n",
        "          Model.Input == Tensor<Opt.Scalar>,\n",
        "          Model.Output == Tensor<Opt.Scalar>\n",
        "{\n",
        "    var trainer: Trainer<Model, Opt>\n",
        "    private var trainingStatistics: AverageStatistics<Model>\n",
        "    private var validationStatistics: AverageStatistics<Model>\n",
        "\n",
        "    init(trainer: Trainer<Model, Opt>, metrics: [AverageStatistics<Model>.Metric]) {\n",
        "        self.trainer = trainer\n",
        "        self.trainingStatistics = AverageStatistics(metrics, isTraining: true)\n",
        "        self.validationStatistics = AverageStatistics(metrics, isTraining: false)\n",
        "    }\n",
        "\n",
        "    var statistics: AverageStatistics<Model> {\n",
        "        if trainer.isTraining {\n",
        "            return trainingStatistics\n",
        "        } else {\n",
        "            return validationStatistics\n",
        "        }\n",
        "    }\n",
        "\n",
        "    override var begin_epoch: Callback {\n",
        "        return {}\n",
        "    }\n",
        "\n",
        "    override var after_loss: Callback {\n",
        "        return {}\n",
        "    }\n",
        "\n",
        "    override var after_epoch: Callback {\n",
        "        return {}\n",
        "    }\n",
        "}\n",
        "\n",
        "/*\n",
        "// NOTE: We may not want a `Learner` abstraction.\n",
        "struct Learner<Model : Layer, Opt : Optimizer> {\n",
        "    var optimizer: Opt\n",
        "    var model: Model\n",
        "    var lossFunction: (Model.Output) -> Tensor<Float>\n",
        "    var data: (train: Batch, validation: Batch)\n",
        "}\n",
        "*/\n",
        "\n",
        "struct Trainer<Model, Opt : Optimizer>\n",
        "    where Opt.Model == Model, Opt.Scalar : TensorFlowFloatingPoint,\n",
        "          Model.Input == Tensor<Opt.Scalar>,\n",
        "          Model.Output == Tensor<Opt.Scalar>\n",
        "{\n",
        "    typealias Scalar = Opt.Scalar\n",
        "    typealias Batch = (data: Tensor<Scalar>, labels: Tensor<Scalar>)\n",
        "\n",
        "    var callbacks: [TrainerCallback<Model, Opt>]\n",
        "    var stop: Bool = false\n",
        "\n",
        "    var isTraining: Bool\n",
        "    var data: Model.Input\n",
        "    var labels: Model.Output\n",
        "    var prediction: Model.Output\n",
        "    var loss: Tensor<Float>\n",
        "    var epochCount: Int\n",
        "    var epoch: Int\n",
        "    // var learner: Learner<Model, Opt>\n",
        "\n",
        "    var optimizer: Opt\n",
        "    var model: Model\n",
        "    var lossFunction: (Model.Output) -> Tensor<Float>\n",
        "\n",
        "    mutating func runOneBatch(_ batch: Batch) {\n",
        "        self.data = batch.data\n",
        "        self.labels = batch.labels\n",
        "        invokeCallback(.begin_batch)\n",
        "        \n",
        "        self.prediction = model.applied(to: self.data)\n",
        "        invokeCallback(.after_pred)\n",
        "        self.loss = lossFunction(self.prediction)\n",
        "        invokeCallback(.after_loss)\n",
        "\n",
        "        // let dloss = gradient(at: \n",
        "        invokeCallback(.after_backward)\n",
        "        invokeCallback(.after_step)\n",
        "    }\n",
        "\n",
        "    mutating func runAllBatches(_ batches: [Batch]) {\n",
        "        let iterationCount = batches.count\n",
        "        for batch in batches {\n",
        "            if self.stop { break }\n",
        "            runOneBatch(batch)\n",
        "        }\n",
        "        self.stop = false \n",
        "    }\n",
        "\n",
        "    mutating func fit(epochCount: Int) {\n",
        "        self.epochCount = epochCount\n",
        "        invokeCallback(.begin_fit)\n",
        "        for epoch in 0..<epochCount {\n",
        "            self.epoch = epoch\n",
        "            invokeCallback(.begin_epoch)\n",
        "        }\n",
        "    }\n",
        "}\n",
        "\n",
        "extension Trainer {\n",
        "    // TODO: Use a better way to indicate if errors occurred.\n",
        "    // fast.ai API makes `Callback`s return a boolean, with true indicating error occurred.\n",
        "    func invokeCallback(_ kind: CallbackKind) {\n",
        "        for callback in callbacks {\n",
        "            guard let cb = callback.callback(kind) else { continue }\n",
        "            cb()\n",
        "        }\n",
        "    }\n",
        "}\n"
      ],
      "execution_count": 0,
      "outputs": [
        {
          "output_type": "error",
          "ename": "",
          "evalue": "ignored",
          "traceback": [
            "warning: <Cell 1>:137:47: warning: redundant conformance constraint 'Model': 'Layer'\nfinal class AverageStatisticsCallback<Model : Layer, Opt : Optimizer> : TrainerCallback<Model, Opt>\n                                              ^\n\n<Cell 1>:137:60: note: conformance constraint 'Model': 'Layer' implied here\nfinal class AverageStatisticsCallback<Model : Layer, Opt : Optimizer> : TrainerCallback<Model, Opt>\n                                                           ^\n\nerror: <Cell 1>:128:33: error: value of type 'Model.Input' has no member 'shape'\n        let batchSize = trainer.data.shape[0]\n                        ~~~~~~~~^~~~ ~~~~~\n\nerror: <Cell 1>:199:27: error: cannot assign value of type 'Tensor<Float>' to type 'Model.Input'\n        self.data = batch.data\n                    ~~~~~~^~~~\n                               as! Model.Input\n\nerror: <Cell 1>:200:29: error: cannot assign value of type 'Tensor<Float>' to type 'Model.Output'\n        self.labels = batch.labels\n                      ~~~~~~^~~~~~\n                                   as! Model.Output\n\nwarning: <Cell 1>:203:33: warning: 'applied(to:)' is deprecated: Switch to 'applied(to:in:)' for training, or 'inferring(from:)' for inference\n        self.prediction = model.applied(to: self.data)\n                                ^\n\nwarning: <Cell 1>:214:13: warning: initialization of immutable value 'iterationCount' was never used; consider replacing with assignment to '_' or removing it\n        let iterationCount = batches.count\n        ~~~~^~~~~~~~~~~~~~\n        _\n\n"
          ]
        }
      ]
    },
    {
      "metadata": {
        "id": "0AgqzvzWe8DO",
        "colab_type": "text"
      },
      "cell_type": "markdown",
      "source": [
        "## Note\n",
        "\n",
        "Below is code directly from the Python notebook.\n",
        "To be ported to Swift."
      ]
    },
    {
      "metadata": {
        "id": "m4ylK7mEYQpF",
        "colab_type": "code",
        "outputId": "dc21b40b-d8be-4f81-907f-5d3e23a32e16",
        "colab": {
          "base_uri": "https://localhost:8080/",
          "height": 147
        }
      },
      "cell_type": "code",
      "source": [
        "%load_ext autoreload\n",
        "%autoreload 2\n",
        "\n",
        "%matplotlib inline"
      ],
      "execution_count": 0,
      "outputs": [
        {
          "output_type": "error",
          "ename": "",
          "evalue": "ignored",
          "traceback": [
            "error: <Cell 1>:1:10: error: consecutive statements on a line must be separated by ';'\n%load_ext autoreload\n         ^\n         ;\n\n"
          ]
        }
      ]
    },
    {
      "metadata": {
        "id": "RMbaIZd_YQpH",
        "colab_type": "code",
        "colab": {}
      },
      "cell_type": "code",
      "source": [
        "#export\n",
        "from exp.nb_03 import *"
      ],
      "execution_count": 0,
      "outputs": []
    },
    {
      "metadata": {
        "id": "CDiVx4rkYQpJ",
        "colab_type": "text"
      },
      "cell_type": "markdown",
      "source": [
        "## DataBunch/Learner"
      ]
    },
    {
      "metadata": {
        "id": "r-VEYoSfYQpJ",
        "colab_type": "code",
        "colab": {}
      },
      "cell_type": "code",
      "source": [
        "x_train,y_train,x_valid,y_valid = get_data()\n",
        "train_ds,valid_ds = Dataset(x_train, y_train),Dataset(x_valid, y_valid)\n",
        "nh,bs = 50,64\n",
        "loss_func = F.cross_entropy"
      ],
      "execution_count": 0,
      "outputs": []
    },
    {
      "metadata": {
        "id": "RVfRcOk4YQpL",
        "colab_type": "text"
      },
      "cell_type": "markdown",
      "source": [
        "Factor out the connected pieces of info out of the fit() argument list\n",
        "\n",
        "`fit(epochs, model, loss_func, opt, train_dl, valid_dl)`"
      ]
    },
    {
      "metadata": {
        "id": "yv602piPYQpL",
        "colab_type": "code",
        "colab": {}
      },
      "cell_type": "code",
      "source": [
        "#export\n",
        "class DataBunch():\n",
        "    def __init__(self, train_dl, valid_dl):\n",
        "        self.train_dl,self.valid_dl = train_dl,valid_dl\n",
        "        self.c = self.train_ds.y.max().item()+1\n",
        "        \n",
        "    @property\n",
        "    def train_ds(self): return self.train_dl.dataset\n",
        "        \n",
        "    @property\n",
        "    def valid_ds(self): return self.valid_dl.dataset"
      ],
      "execution_count": 0,
      "outputs": []
    },
    {
      "metadata": {
        "id": "ROGy_YpiYQpN",
        "colab_type": "code",
        "colab": {}
      },
      "cell_type": "code",
      "source": [
        "data = DataBunch(*get_dls(train_ds, valid_ds, bs))"
      ],
      "execution_count": 0,
      "outputs": []
    },
    {
      "metadata": {
        "id": "ccMTZFU4YQpO",
        "colab_type": "code",
        "colab": {}
      },
      "cell_type": "code",
      "source": [
        "#export\n",
        "def get_model(data, lr=0.5, nh=50):\n",
        "    m = data.train_ds.x.shape[1]\n",
        "    model = nn.Sequential(nn.Linear(m,nh), nn.ReLU(), nn.Linear(nh,data.c))\n",
        "    return model, optim.SGD(model.parameters(), lr=lr)\n",
        "\n",
        "class Learner():\n",
        "    def __init__(self, model, opt, loss_func, data):\n",
        "        self.model,self.opt,self.loss_func,self.data = model,opt,loss_func,data"
      ],
      "execution_count": 0,
      "outputs": []
    },
    {
      "metadata": {
        "id": "40DjdGL1YQpQ",
        "colab_type": "code",
        "colab": {}
      },
      "cell_type": "code",
      "source": [
        "learn = Learner(*get_model(data), loss_func, data)"
      ],
      "execution_count": 0,
      "outputs": []
    },
    {
      "metadata": {
        "id": "ZCku6oHrYQpR",
        "colab_type": "code",
        "colab": {}
      },
      "cell_type": "code",
      "source": [
        "def fit(epochs, learn):\n",
        "    for epoch in range(epochs):\n",
        "        learn.model.train()\n",
        "        for xb,yb in learn.data.train_dl:\n",
        "            loss = learn.loss_func(learn.model(xb), yb)\n",
        "            loss.backward()\n",
        "            learn.opt.step()\n",
        "            learn.opt.zero_grad()\n",
        "\n",
        "        learn.model.eval()\n",
        "        with torch.no_grad():\n",
        "            tot_loss,tot_acc = 0.,0.\n",
        "            for xb,yb in learn.data.valid_dl:\n",
        "                pred = learn.model(xb)\n",
        "                tot_loss += learn.loss_func(pred, yb)\n",
        "                tot_acc  += accuracy (pred,yb)\n",
        "        nv = len(valid_dl)\n",
        "        print(epoch, tot_loss/nv, tot_acc/nv)\n",
        "    return tot_loss/nv, tot_acc/nv"
      ],
      "execution_count": 0,
      "outputs": []
    },
    {
      "metadata": {
        "id": "u4FA8Am5YQpU",
        "colab_type": "code",
        "outputId": "531b5c8c-970b-4f8e-ca46-516a4673f717",
        "colab": {}
      },
      "cell_type": "code",
      "source": [
        "loss,acc = fit(1, learn)"
      ],
      "execution_count": 0,
      "outputs": [
        {
          "output_type": "stream",
          "text": [
            "0 tensor(0.1720) tensor(0.9471)\n"
          ],
          "name": "stdout"
        }
      ]
    },
    {
      "metadata": {
        "id": "sgz6dCrKYQpX",
        "colab_type": "text"
      },
      "cell_type": "markdown",
      "source": [
        "## CallbackHandler"
      ]
    },
    {
      "metadata": {
        "id": "pp0GT67lYQpY",
        "colab_type": "text"
      },
      "cell_type": "markdown",
      "source": [
        "Add callbacks so we can remove complexity from loop, and make it flexible:"
      ]
    },
    {
      "metadata": {
        "id": "p5Bl6urDYQpY",
        "colab_type": "code",
        "colab": {}
      },
      "cell_type": "code",
      "source": [
        "def one_batch(xb, yb, cb):\n",
        "    if not cb.begin_batch(xb,yb): return\n",
        "    loss = cb.learn.loss_func(cb.learn.model(xb), yb)\n",
        "    if not cb.after_loss(loss): return\n",
        "    loss.backward()\n",
        "    if cb.after_backward(): cb.learn.opt.step()\n",
        "    if cb.after_step(): cb.learn.opt.zero_grad()"
      ],
      "execution_count": 0,
      "outputs": []
    },
    {
      "metadata": {
        "id": "dR5uh7DlYQpZ",
        "colab_type": "code",
        "colab": {}
      },
      "cell_type": "code",
      "source": [
        "def all_batches(dl, cb):\n",
        "    for xb,yb in dl:\n",
        "        one_batch(xb, yb, cb)\n",
        "        if cb.do_stop(): return"
      ],
      "execution_count": 0,
      "outputs": []
    },
    {
      "metadata": {
        "id": "OF0VaMIhYQpb",
        "colab_type": "code",
        "colab": {}
      },
      "cell_type": "code",
      "source": [
        "def fit(epochs, learn, cb):\n",
        "    if not cb.begin_fit(learn): return\n",
        "    for epoch in range(epochs):\n",
        "        if not cb.begin_epoch(epoch): continue\n",
        "        all_batches(learn.data.train_dl, cb)\n",
        "        \n",
        "        if cb.begin_validate():\n",
        "            with torch.no_grad(): all_batches(learn.data.valid_dl, cb)\n",
        "        if not cb.after_epoch(): break\n",
        "    cb.after_fit()"
      ],
      "execution_count": 0,
      "outputs": []
    },
    {
      "metadata": {
        "id": "zQOOCATFYQpc",
        "colab_type": "code",
        "colab": {}
      },
      "cell_type": "code",
      "source": [
        "class CallbackHandler():\n",
        "    def __init__(self): self.stop,self.cbs = False,[]\n",
        "\n",
        "    def begin_fit(self, learn):\n",
        "        self.learn,self.in_train = learn,True\n",
        "        return True\n",
        "    def after_fit(self): pass\n",
        "    \n",
        "    def begin_epoch(self, epoch):\n",
        "        learn.model.train()\n",
        "        self.in_train=True\n",
        "        return True\n",
        "    def begin_validate(self):\n",
        "        self.learn.model.eval()\n",
        "        self.in_train=False\n",
        "        return True\n",
        "    def after_epoch(self): return True\n",
        "    \n",
        "    def begin_batch(self, xb, yb): return True\n",
        "    def after_loss(self, loss): return self.in_train\n",
        "    def after_backward(self): return True\n",
        "    def after_step(self): return True\n",
        "    \n",
        "    def do_stop(self):\n",
        "        try:     return self.stop\n",
        "        finally: self.stop = False"
      ],
      "execution_count": 0,
      "outputs": []
    },
    {
      "metadata": {
        "id": "brQvpJLkYQpd",
        "colab_type": "code",
        "colab": {}
      },
      "cell_type": "code",
      "source": [
        "fit(1, learn, cb=CallbackHandler())"
      ],
      "execution_count": 0,
      "outputs": []
    },
    {
      "metadata": {
        "id": "5TeMwjWCYQpf",
        "colab_type": "text"
      },
      "cell_type": "markdown",
      "source": [
        "This is roughly how fastai does it now (except that the handler can also change and return `xb`, `yb`, and `loss`). But let's see if we can make things simpler and more flexible, so that a single class has access to everything and can change anything at any time. The fact that we're passing `cb` to so many functions is a strong hint they should all be in the same class!"
      ]
    },
    {
      "metadata": {
        "id": "-rZhuj-ZYQpf",
        "colab_type": "text"
      },
      "cell_type": "markdown",
      "source": [
        "## Runner"
      ]
    },
    {
      "metadata": {
        "id": "CvnPw89tYQpf",
        "colab_type": "code",
        "colab": {}
      },
      "cell_type": "code",
      "source": [
        "#export\n",
        "class Callback():\n",
        "    _order=0\n",
        "    def __init__(self, run): self.run=run\n",
        "    def __getattr__(self, k): return getattr(self.run, k)\n",
        "\n",
        "class TrainEvalCallback(Callback):\n",
        "    def begin_fit(self):\n",
        "        self.n_epochs=0.\n",
        "        self.n_iter=0\n",
        "    \n",
        "    def after_batch(self):\n",
        "        if not self.in_train: return\n",
        "        self.n_epochs += 1./self.iters\n",
        "        self.n_iter   += 1\n",
        "        \n",
        "    def begin_epoch(self):\n",
        "        self.n_epochs=self.epoch\n",
        "        self.model.train()\n",
        "        self.run.in_train=True\n",
        "\n",
        "    def begin_validate(self):\n",
        "        self.model.eval()\n",
        "        self.run.in_train=False"
      ],
      "execution_count": 0,
      "outputs": []
    },
    {
      "metadata": {
        "id": "Ah2dspZIYQph",
        "colab_type": "code",
        "colab": {}
      },
      "cell_type": "code",
      "source": [
        "#export\n",
        "def listify(o):\n",
        "    if o is None: return []\n",
        "    if isinstance(o, list): return o\n",
        "    if isinstance(o, tuple): return list(o)\n",
        "    return [o]"
      ],
      "execution_count": 0,
      "outputs": []
    },
    {
      "metadata": {
        "id": "58maLnj8YQpj",
        "colab_type": "code",
        "colab": {}
      },
      "cell_type": "code",
      "source": [
        "#export\n",
        "class Runner():\n",
        "    def __init__(self, cbs=None):\n",
        "        self.stop,self.cbs = False,[TrainEvalCallback(self)]+listify(cbs)\n",
        "\n",
        "    @property\n",
        "    def opt(self):       return self.learn.opt\n",
        "    @property\n",
        "    def model(self):     return self.learn.model\n",
        "    @property\n",
        "    def loss_func(self): return self.learn.loss_func\n",
        "    @property\n",
        "    def data(self):      return self.learn.data\n",
        "\n",
        "    def one_batch(self, xb, yb):\n",
        "        self.xb,self.yb = xb,yb\n",
        "        if self('begin_batch'): return\n",
        "        self.pred = self.model(self.xb)\n",
        "        if self('after_pred'): return\n",
        "        self.loss = self.loss_func(self.pred, self.yb)\n",
        "        if self('after_loss') or not self.in_train: return\n",
        "        self.loss.backward()\n",
        "        if self('after_backward'): return\n",
        "        self.opt.step()\n",
        "        if self('after_step'): return\n",
        "        self.opt.zero_grad()\n",
        "\n",
        "    def all_batches(self, dl):\n",
        "        self.iters = len(dl)\n",
        "        for xb,yb in dl:\n",
        "            if self.stop: break\n",
        "            self.one_batch(xb, yb)\n",
        "            self('after_batch')\n",
        "        self.stop=False\n",
        "\n",
        "    def fit(self, epochs, learn):\n",
        "        self.epochs,self.learn = epochs,learn\n",
        "\n",
        "        try:\n",
        "            if self('begin_fit'): return\n",
        "            for epoch in range(epochs):\n",
        "                self.epoch = epoch\n",
        "                if not self('begin_epoch'): self.all_batches(self.data.train_dl)\n",
        "\n",
        "                with torch.no_grad(): \n",
        "                    if not self('begin_validate'): self.all_batches(self.data.valid_dl)\n",
        "                if self('after_epoch'): break\n",
        "            \n",
        "        finally:\n",
        "            self('after_fit')\n",
        "            self.learn = None\n",
        "\n",
        "    def __call__(self, cb_name):\n",
        "        for cb in sorted(self.cbs, key=lambda x: x._order):\n",
        "            f = getattr(cb, cb_name, None)\n",
        "            if f and f(): return True\n",
        "        return False"
      ],
      "execution_count": 0,
      "outputs": []
    },
    {
      "metadata": {
        "id": "nMp0JUhBYQpl",
        "colab_type": "code",
        "colab": {}
      },
      "cell_type": "code",
      "source": [
        "#export\n",
        "class AvgStats():\n",
        "    def __init__(self, metrics, in_train): self.metrics,self.in_train = listify(metrics),in_train\n",
        "    \n",
        "    def reset(self):\n",
        "        self.tot_loss,self.count = 0.,0\n",
        "        self.tot_mets = [0.] * len(self.metrics)\n",
        "        \n",
        "    @property\n",
        "    def all_stats(self): return [self.tot_loss.item()] + self.tot_mets\n",
        "    @property\n",
        "    def avg_stats(self): return [o/self.count for o in self.all_stats]\n",
        "    \n",
        "    def __repr__(self):\n",
        "        if not self.count: return \"\"\n",
        "        return f\"{'train' if self.in_train else 'valid'}: {self.avg_stats}\"\n",
        "\n",
        "    def accumulate(self, run):\n",
        "        bn = run.xb.shape[0]\n",
        "        self.tot_loss += run.loss * bn\n",
        "        self.count += bn\n",
        "        for i,m in enumerate(self.metrics):\n",
        "            self.tot_mets[i] += m(run.pred, run.yb) * bn\n",
        "\n",
        "class AvgStatsCallback(Callback):\n",
        "    def __init__(self, run, metrics):\n",
        "        super().__init__(run)\n",
        "        self.train_stats,self.valid_stats = AvgStats(metrics,True),AvgStats(metrics,False)\n",
        "        \n",
        "    def stats(self): return self.train_stats if self.in_train else self.valid_stats\n",
        "\n",
        "    def begin_epoch(self):\n",
        "        self.train_stats.reset()\n",
        "        self.valid_stats.reset()\n",
        "        \n",
        "    def after_loss(self):\n",
        "        with torch.no_grad(): self.stats().accumulate(self.run)\n",
        "    \n",
        "    def after_epoch(self):\n",
        "        print(self.train_stats)\n",
        "        print(self.valid_stats)"
      ],
      "execution_count": 0,
      "outputs": []
    },
    {
      "metadata": {
        "id": "NszOvemZYQpm",
        "colab_type": "code",
        "colab": {}
      },
      "cell_type": "code",
      "source": [
        "learn = Learner(*get_model(data), loss_func, data)"
      ],
      "execution_count": 0,
      "outputs": []
    },
    {
      "metadata": {
        "id": "ObocCZtzYQpn",
        "colab_type": "code",
        "colab": {}
      },
      "cell_type": "code",
      "source": [
        "run = Runner()\n",
        "stats = AvgStatsCallback(run, [accuracy])\n",
        "run.cbs.append(stats)"
      ],
      "execution_count": 0,
      "outputs": []
    },
    {
      "metadata": {
        "id": "VvfadYi0YQpq",
        "colab_type": "code",
        "outputId": "de0e5230-9bdb-4390-a310-c6a0bc206cec",
        "colab": {}
      },
      "cell_type": "code",
      "source": [
        "run.fit(3, learn)"
      ],
      "execution_count": 0,
      "outputs": [
        {
          "output_type": "stream",
          "text": [
            "train: [0.312986328125, tensor(0.9031)]\n",
            "valid: [0.145713427734375, tensor(0.9578)]\n",
            "train: [0.13666587890625, tensor(0.9582)]\n",
            "valid: [0.11328406982421875, tensor(0.9675)]\n",
            "train: [0.10290517578125, tensor(0.9683)]\n",
            "valid: [0.09884705810546875, tensor(0.9717)]\n"
          ],
          "name": "stdout"
        }
      ]
    },
    {
      "metadata": {
        "id": "8AqWy5f0YQps",
        "colab_type": "code",
        "colab": {}
      },
      "cell_type": "code",
      "source": [
        "loss,acc = stats.valid_stats.avg_stats\n",
        "assert acc>0.9"
      ],
      "execution_count": 0,
      "outputs": []
    },
    {
      "metadata": {
        "id": "epz-wAvsYQpt",
        "colab_type": "text"
      },
      "cell_type": "markdown",
      "source": [
        "## Export"
      ]
    },
    {
      "metadata": {
        "id": "1PdZTkGPYQpt",
        "colab_type": "code",
        "outputId": "5f9a5dfd-3c09-40e6-e8b3-97b663b4f397",
        "colab": {}
      },
      "cell_type": "code",
      "source": [
        "!./notebook2script.py 04_callbacks.ipynb"
      ],
      "execution_count": 0,
      "outputs": [
        {
          "output_type": "stream",
          "text": [
            "Converted 04_callbacks.ipynb to nb_04.py\r\n"
          ],
          "name": "stdout"
        }
      ]
    },
    {
      "metadata": {
        "id": "5FDcFr_2YQpv",
        "colab_type": "code",
        "colab": {}
      },
      "cell_type": "code",
      "source": [
        ""
      ],
      "execution_count": 0,
      "outputs": []
    }
  ]
}