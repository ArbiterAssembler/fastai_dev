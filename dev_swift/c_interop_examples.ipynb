{
 "cells": [
  {
   "cell_type": "markdown",
   "metadata": {},
   "source": [
    "## C Integration Examples\n",
    "\n",
    "Notes:\n",
    "\n",
    "- SwiftSox package requires sox to be installed: `sudo apt install libsox-dev libsox-fmt-all sox`\n",
    "- SwiftVips package requires vips to be installed: see `SwiftVips/install.sh` for steps"
   ]
  },
  {
   "cell_type": "code",
   "execution_count": null,
   "metadata": {},
   "outputs": [],
   "source": [
    "%install-location $cwd/swift-install\n",
    "%install '.package(path: \"$cwd/SwiftVips\")' SwiftVips\n",
    "%install '.package(path: \"$cwd/SwiftSox\")' SwiftSox\n",
    "%install '.package(path: \"$cwd/FastaiNotebook_08_data_block\")' FastaiNotebook_08_data_block\n",
    "%install-extra-include-command pkg-config --cflags vips"
   ]
  },
  {
   "cell_type": "code",
   "execution_count": null,
   "metadata": {},
   "outputs": [],
   "source": [
    "import Foundation\n",
    "import Path\n",
    "import FastaiNotebook_08_data_block"
   ]
  },
  {
   "cell_type": "markdown",
   "metadata": {},
   "source": [
    "### Sox"
   ]
  },
  {
   "cell_type": "code",
   "execution_count": null,
   "metadata": {},
   "outputs": [],
   "source": [
    "import sox"
   ]
  },
  {
   "cell_type": "code",
   "execution_count": null,
   "metadata": {},
   "outputs": [],
   "source": [
    "public func InitSox() {\n",
    "  if sox_format_init() != SOX_SUCCESS.rawValue { fatalError(\"Can not init SOX!\") }\n",
    "}\n",
    "\n",
    "public func ReadSoxAudio(_ name:String)->UnsafeMutablePointer<sox_format_t> {\n",
    "  return sox_open_read(name, nil, nil, nil)\n",
    "}"
   ]
  },
  {
   "cell_type": "code",
   "execution_count": null,
   "metadata": {},
   "outputs": [],
   "source": [
    "InitSox()"
   ]
  },
  {
   "cell_type": "code",
   "execution_count": null,
   "metadata": {},
   "outputs": [],
   "source": [
    "let fd = ReadSoxAudio(\"SwiftSox/sounds/chris.mp3\")"
   ]
  },
  {
   "cell_type": "code",
   "execution_count": null,
   "metadata": {},
   "outputs": [],
   "source": [
    "let sig = fd.pointee.signal"
   ]
  },
  {
   "cell_type": "code",
   "execution_count": null,
   "metadata": {},
   "outputs": [],
   "source": [
    "(sig.rate,sig.precision,sig.channels,sig.length)"
   ]
  },
  {
   "cell_type": "code",
   "execution_count": null,
   "metadata": {},
   "outputs": [],
   "source": [
    "var samples = [Int32](repeating: 0, count: numericCast(sig.length))"
   ]
  },
  {
   "cell_type": "code",
   "execution_count": null,
   "metadata": {},
   "outputs": [],
   "source": [
    "sox_read(fd, &samples, numericCast(sig.length))"
   ]
  },
  {
   "cell_type": "code",
   "execution_count": null,
   "metadata": {},
   "outputs": [],
   "source": [
    "import Python"
   ]
  },
  {
   "cell_type": "code",
   "execution_count": null,
   "metadata": {},
   "outputs": [],
   "source": [
    "%include \"EnableIPythonDisplay.swift\"\n",
    "let plt = Python.import(\"matplotlib.pyplot\")\n",
    "let np = Python.import(\"numpy\")\n",
    "let display = Python.import(\"IPython.display\")\n",
    "IPythonDisplay.shell.enable_matplotlib(\"inline\")"
   ]
  },
  {
   "cell_type": "code",
   "execution_count": null,
   "metadata": {},
   "outputs": [],
   "source": [
    "let t = samples.makeNumpyArray()"
   ]
  },
  {
   "cell_type": "code",
   "execution_count": null,
   "metadata": {},
   "outputs": [],
   "source": [
    "plt.figure(figsize: [12, 4])\n",
    "plt.plot(t[2000..<4000])\n",
    "plt.show()"
   ]
  },
  {
   "cell_type": "code",
   "execution_count": null,
   "metadata": {},
   "outputs": [],
   "source": [
    "display.Audio(t, rate:sig.rate).display()"
   ]
  },
  {
   "cell_type": "markdown",
   "metadata": {},
   "source": [
    "So here we're using numpy, matplotlib, ipython, all from swift! 😎"
   ]
  },
  {
   "cell_type": "markdown",
   "metadata": {},
   "source": [
    "[next slide](https://docs.google.com/presentation/d/1dc6o2o-uYGnJeCeyvgsgyk05dBMneArxdICW5vF75oU/edit#slide=id.g512a2e238a_144_16)"
   ]
  },
  {
   "cell_type": "markdown",
   "metadata": {},
   "source": [
    "### Vips"
   ]
  },
  {
   "cell_type": "markdown",
   "metadata": {},
   "source": [
    "Why limit ourselves to Python? There's a lot out there that's not in Python yet!"
   ]
  },
  {
   "cell_type": "code",
   "execution_count": null,
   "metadata": {},
   "outputs": [],
   "source": [
    "import SwiftVips\n",
    "import CSwiftVips\n",
    "import vips"
   ]
  },
  {
   "cell_type": "code",
   "execution_count": null,
   "metadata": {},
   "outputs": [],
   "source": [
    "vipsInit()"
   ]
  },
  {
   "cell_type": "code",
   "execution_count": null,
   "metadata": {},
   "outputs": [],
   "source": [
    "let path = downloadImagenette()\n",
    "let allNames = fetchFiles(path: path/\"train\", recurse: true, extensions: [\"jpeg\", \"jpg\"])\n",
    "let fNames = Array(allNames[0..<256])\n",
    "let ns = fNames.map {$0.string}"
   ]
  },
  {
   "cell_type": "code",
   "execution_count": null,
   "metadata": {},
   "outputs": [],
   "source": [
    "let imgpath = ns[0]\n",
    "let img = vipsLoadImage(imgpath)!"
   ]
  },
  {
   "cell_type": "code",
   "execution_count": null,
   "metadata": {},
   "outputs": [],
   "source": [
    "import TensorFlow\n",
    "func vipsToTensor(_ img:Image)->Tensor<UInt8> {\n",
    "    var sz:Int=0\n",
    "    let mem = vipsGet(img, &sz)\n",
    "    defer {free(mem)}\n",
    "    let shape = TensorShape(vipsShape(img))\n",
    "    return Tensor(shape: shape, scalars: UnsafeBufferPointer(start: mem, count: sz))\n",
    "}"
   ]
  },
  {
   "cell_type": "code",
   "execution_count": null,
   "metadata": {},
   "outputs": [],
   "source": [
    "show_img(vipsToTensor(img))"
   ]
  },
  {
   "cell_type": "markdown",
   "metadata": {},
   "source": [
    "## fin"
   ]
  },
  {
   "cell_type": "code",
   "execution_count": null,
   "metadata": {},
   "outputs": [],
   "source": []
  }
 ],
 "metadata": {
  "kernelspec": {
   "display_name": "Swift",
   "language": "swift",
   "name": "swift"
  }
 },
 "nbformat": 4,
 "nbformat_minor": 2
}
