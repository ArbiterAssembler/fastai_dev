{
 "cells": [
  {
   "cell_type": "code",
   "execution_count": null,
   "metadata": {},
   "outputs": [],
   "source": [
    "// export\n",
    "\n",
    "protocol HetDictKey: Hashable {\n",
    "    associatedtype ValueType\n",
    "    static var key: AnyHashable { get }\n",
    "}"
   ]
  },
  {
   "cell_type": "code",
   "execution_count": null,
   "metadata": {},
   "outputs": [],
   "source": [
    "// export\n",
    "\n",
    "struct HeterogeneousDictionary {\n",
    "    private var underlying: [AnyHashable : Any] = [:]\n",
    "    \n",
    "    init() {}\n",
    "    init(_ items: [AnyHashable : Any]) {\n",
    "        self.underlying = items\n",
    "    }\n",
    "\n",
    "    subscript<T: HetDictKey>(key: T) -> T.ValueType? {\n",
    "        get {\n",
    "            return underlying[T.key] as! T.ValueType?\n",
    "        }\n",
    "        set(newValue) {\n",
    "            if let v = newValue {\n",
    "                underlying[T.key] = v as Any\n",
    "            } else {\n",
    "                underlying.removeValue(forKey: T.key)\n",
    "            }\n",
    "        }\n",
    "    }\n",
    "}\n"
   ]
  },
  {
   "cell_type": "code",
   "execution_count": null,
   "metadata": {},
   "outputs": [],
   "source": [
    "// Common keys\n",
    "\n",
    "// Should be exported?\n",
    "\n",
    "struct Accuracy: HetDictKey, Equatable {\n",
    "    static var key = Accuracy() as AnyHashable\n",
    "    typealias ValueType = Float32\n",
    "}\n",
    "\n",
    "struct LearningRate: HetDictKey, Equatable {\n",
    "    static var key = LearningRate() as AnyHashable\n",
    "    typealias ValueType = Float\n",
    "}\n",
    "\n",
    "struct StepCount: HetDictKey, Equatable {\n",
    "    static var key = StepCount() as AnyHashable\n",
    "    typealias ValueType = Int\n",
    "}\n"
   ]
  },
  {
   "cell_type": "code",
   "execution_count": null,
   "metadata": {},
   "outputs": [],
   "source": [
    "// Sample usage\n",
    "var m = HeterogeneousDictionary()\n"
   ]
  },
  {
   "cell_type": "code",
   "execution_count": null,
   "metadata": {},
   "outputs": [],
   "source": [
    "print(m[LearningRate()])\n",
    "m[LearningRate()] = 3.4\n",
    "print(m[LearningRate()])\n",
    "\n",
    "print(m[StepCount()])\n",
    "m[StepCount()] = 3\n",
    "print(m[StepCount()])\n"
   ]
  },
  {
   "cell_type": "code",
   "execution_count": null,
   "metadata": {},
   "outputs": [],
   "source": [
    "print(type(of: m[StepCount()]))\n",
    "print(type(of: m[LearningRate()]))\n"
   ]
  },
  {
   "cell_type": "code",
   "execution_count": null,
   "metadata": {},
   "outputs": [],
   "source": []
  }
 ],
 "metadata": {
  "kernelspec": {
   "display_name": "Swift",
   "language": "swift",
   "name": "swift"
  }
 },
 "nbformat": 4,
 "nbformat_minor": 2
}
