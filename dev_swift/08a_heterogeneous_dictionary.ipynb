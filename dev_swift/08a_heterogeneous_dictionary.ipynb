{
 "cells": [
  {
   "cell_type": "code",
   "execution_count": null,
   "metadata": {},
   "outputs": [],
   "source": [
    "%install '.package(path: \"$cwd/FastaiNotebook_00_load_data\")' FastaiNotebook_00_load_data"
   ]
  },
  {
   "cell_type": "code",
   "execution_count": null,
   "metadata": {},
   "outputs": [],
   "source": [
    "// export\n",
    "\n",
    "public protocol HetDictKey: Hashable {\n",
    "    associatedtype ValueType\n",
    "    static var defaultValue: ValueType { get }\n",
    "}"
   ]
  },
  {
   "cell_type": "code",
   "execution_count": null,
   "metadata": {},
   "outputs": [],
   "source": [
    "// export\n",
    "\n",
    "public struct HeterogeneousDictionary {\n",
    "    private var underlying: [AnyHashable : Any] = [:]\n",
    "    \n",
    "    public init() {}\n",
    "    public init<T: HetDictKey>(_ key: T, _ value: T.ValueType) {\n",
    "        self.underlying = [key: value]\n",
    "    }\n",
    "    public init<T1: HetDictKey, T2: HetDictKey>(_ key1: T1, _ value1: T1.ValueType, _ key2: T2, _ value2: T2.ValueType) {\n",
    "        self.underlying = [key1: value1, key2: value2]\n",
    "    }\n",
    "\n",
    "    public subscript<T: HetDictKey>(key: T) -> T.ValueType {\n",
    "        get {\n",
    "            return underlying[key] as! T.ValueType? ?? T.defaultValue\n",
    "        }\n",
    "        set(newValue) {\n",
    "            underlying[key] = newValue as Any\n",
    "        }\n",
    "    }\n",
    "    \n",
    "    public mutating func merge(_ other: HeterogeneousDictionary,\n",
    "        uniquingKeysWith combine: (Any, Any) throws -> Any) rethrows {\n",
    "        try self.underlying.merge(other.underlying, uniquingKeysWith: combine)\n",
    "    }\n",
    "}\n"
   ]
  },
  {
   "cell_type": "code",
   "execution_count": null,
   "metadata": {},
   "outputs": [],
   "source": [
    "// export\n",
    "\n",
    "// Common keys\n",
    "public struct Accuracy: HetDictKey, Equatable {\n",
    "    public init() {}\n",
    "    public static var defaultValue: Float = 0\n",
    "}\n",
    "\n",
    "public struct LearningRate: HetDictKey, Equatable {\n",
    "    public init() {}\n",
    "    public static var defaultValue: Float = 0.4\n",
    "}\n",
    "\n",
    "public struct StepCount: HetDictKey, Equatable {\n",
    "    public init() {}\n",
    "    public static var defaultValue = 0\n",
    "}\n"
   ]
  },
  {
   "cell_type": "code",
   "execution_count": null,
   "metadata": {},
   "outputs": [],
   "source": [
    "// Sample usage\n",
    "var m = HeterogeneousDictionary()\n"
   ]
  },
  {
   "cell_type": "code",
   "execution_count": null,
   "metadata": {},
   "outputs": [],
   "source": [
    "print(m[LearningRate()])\n",
    "m[LearningRate()] = 3.4\n",
    "print(m[LearningRate()])\n",
    "\n",
    "print(m[StepCount()])\n",
    "m[StepCount()] = 3\n",
    "print(m[StepCount()])\n"
   ]
  },
  {
   "cell_type": "code",
   "execution_count": null,
   "metadata": {},
   "outputs": [],
   "source": [
    "print(type(of: m[StepCount()]))\n",
    "print(type(of: m[LearningRate()]))\n"
   ]
  },
  {
   "cell_type": "markdown",
   "metadata": {},
   "source": [
    "Note: for performance, need to optimize hashcode to avoid collisions."
   ]
  },
  {
   "cell_type": "markdown",
   "metadata": {},
   "source": [
    "## Export"
   ]
  },
  {
   "cell_type": "code",
   "execution_count": null,
   "metadata": {},
   "outputs": [],
   "source": [
    "import FastaiNotebook_00_load_data\n",
    "import Path"
   ]
  },
  {
   "cell_type": "code",
   "execution_count": null,
   "metadata": {},
   "outputs": [],
   "source": [
    "notebookToScript(fname: (Path.cwd / \"08a_heterogeneous_dictionary.ipynb\").string)"
   ]
  },
  {
   "cell_type": "code",
   "execution_count": null,
   "metadata": {},
   "outputs": [],
   "source": []
  }
 ],
 "metadata": {
  "kernelspec": {
   "display_name": "Swift",
   "language": "swift",
   "name": "swift"
  }
 },
 "nbformat": 4,
 "nbformat_minor": 2
}
