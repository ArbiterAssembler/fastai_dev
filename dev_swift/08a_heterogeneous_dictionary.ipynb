{
 "cells": [
  {
   "cell_type": "code",
   "execution_count": null,
   "metadata": {},
   "outputs": [],
   "source": [
    "%install '.package(path: \"$cwd/FastaiNotebook_00_load_data\")' FastaiNotebook_00_load_data"
   ]
  },
  {
   "cell_type": "code",
   "execution_count": null,
   "metadata": {},
   "outputs": [],
   "source": [
    "// export\n",
    "\n",
    "public protocol HetDictKey: Hashable {\n",
    "    associatedtype ValueType\n",
    "    static var key: AnyHashable { get }\n",
    "}"
   ]
  },
  {
   "cell_type": "code",
   "execution_count": null,
   "metadata": {},
   "outputs": [],
   "source": [
    "// export\n",
    "\n",
    "public struct HeterogeneousDictionary {\n",
    "    private var underlying: [AnyHashable : Any] = [:]\n",
    "    \n",
    "    public init() {}\n",
    "    public init(_ items: [AnyHashable : Any]) {\n",
    "        self.underlying = items\n",
    "    }\n",
    "\n",
    "    public subscript<T: HetDictKey>(key: T) -> T.ValueType? {\n",
    "        get {\n",
    "            return underlying[T.key] as! T.ValueType?\n",
    "        }\n",
    "        set(newValue) {\n",
    "            if let v = newValue {\n",
    "                underlying[T.key] = v as Any\n",
    "            } else {\n",
    "                underlying.removeValue(forKey: T.key)\n",
    "            }\n",
    "        }\n",
    "    }\n",
    "    \n",
    "    public mutating func merge(_ other: HeterogeneousDictionary,\n",
    "        uniquingKeysWith combine: (Any, Any) throws -> Any) rethrows {\n",
    "        try self.underlying.merge(other.underlying, uniquingKeysWith: combine)\n",
    "    }\n",
    "}\n"
   ]
  },
  {
   "cell_type": "code",
   "execution_count": null,
   "metadata": {},
   "outputs": [],
   "source": [
    "// export\n",
    "\n",
    "// Common keys\n",
    "public struct Accuracy: HetDictKey, Equatable {\n",
    "    public static var key = Accuracy() as AnyHashable\n",
    "    public typealias ValueType = Float32\n",
    "}\n",
    "\n",
    "public struct LearningRate: HetDictKey, Equatable {\n",
    "    public static var key = LearningRate() as AnyHashable\n",
    "    public typealias ValueType = Float\n",
    "}\n",
    "\n",
    "public struct StepCount: HetDictKey, Equatable {\n",
    "    public static var key = StepCount() as AnyHashable\n",
    "    public typealias ValueType = Int\n",
    "}\n"
   ]
  },
  {
   "cell_type": "code",
   "execution_count": null,
   "metadata": {},
   "outputs": [],
   "source": [
    "// Sample usage\n",
    "var m = HeterogeneousDictionary()\n"
   ]
  },
  {
   "cell_type": "code",
   "execution_count": null,
   "metadata": {},
   "outputs": [],
   "source": [
    "print(m[LearningRate()])\n",
    "m[LearningRate()] = 3.4\n",
    "print(m[LearningRate()])\n",
    "\n",
    "print(m[StepCount()])\n",
    "m[StepCount()] = 3\n",
    "print(m[StepCount()])\n"
   ]
  },
  {
   "cell_type": "code",
   "execution_count": null,
   "metadata": {},
   "outputs": [],
   "source": [
    "print(type(of: m[StepCount()]))\n",
    "print(type(of: m[LearningRate()]))\n"
   ]
  },
  {
   "cell_type": "markdown",
   "metadata": {},
   "source": [
    "Note: for performance, need to optimize hashcode to avoid collisions."
   ]
  },
  {
   "cell_type": "markdown",
   "metadata": {},
   "source": [
    "## Export"
   ]
  },
  {
   "cell_type": "code",
   "execution_count": null,
   "metadata": {},
   "outputs": [],
   "source": [
    "import FastaiNotebook_00_load_data\n",
    "import Path"
   ]
  },
  {
   "cell_type": "code",
   "execution_count": null,
   "metadata": {},
   "outputs": [],
   "source": [
    "notebookToScript(fname: (Path.cwd / \"08a_heterogeneous_dictionary.ipynb\").string)"
   ]
  },
  {
   "cell_type": "code",
   "execution_count": null,
   "metadata": {},
   "outputs": [],
   "source": []
  }
 ],
 "metadata": {
  "kernelspec": {
   "display_name": "Swift",
   "language": "swift",
   "name": "swift"
  }
 },
 "nbformat": 4,
 "nbformat_minor": 2
}
