{
 "cells": [
  {
   "cell_type": "markdown",
   "metadata": {},
   "source": [
    "# Training Utilities\n",
    "\n",
    "This notebook presents a design of training utilities. "
   ]
  },
  {
   "cell_type": "code",
   "execution_count": 7,
   "metadata": {},
   "outputs": [],
   "source": [
    "import TensorFlow"
   ]
  },
  {
   "cell_type": "markdown",
   "metadata": {},
   "source": [
    "## Training example data structure\n",
    "\n",
    "A training example data structure consists of training data and a label."
   ]
  },
  {
   "cell_type": "code",
   "execution_count": 8,
   "metadata": {},
   "outputs": [],
   "source": [
    "/// A training example, containing training data and a label. Depending on `Data` and\n",
    "/// `Label`'s implementations, the contents may represent a batch.\n",
    "public struct Example<Data: Differentiable, Label> {\n",
    "    public var data: Data\n",
    "    public var label: Label\n",
    "    \n",
    "    public init(data: Data, label: Label) {\n",
    "        self.data = data\n",
    "        self.label = label\n",
    "    }\n",
    "}"
   ]
  },
  {
   "cell_type": "markdown",
   "metadata": {},
   "source": [
    "## Trainer (learner)\n",
    "\n",
    "A `Trainer` is responsible for initializing and training a model on a given dataset. It can be considered as a controller and an environment of model training.\n",
    "\n",
    "### Core properties\n",
    "\n",
    "`Trainer` contains three kinds of properties:\n",
    "* Core units: `model`, `dataset`, `optimizer`, `lossFunction`\n",
    "* Training states: `epochCount`, `currentEpoch`, `currentGradient`, `currentLoss`\n",
    "* Event handlers: User-configurable callback functions that are called on various events during model training."
   ]
  },
  {
   "cell_type": "code",
   "execution_count": 16,
   "metadata": {},
   "outputs": [],
   "source": [
    "public enum TrainerAction: Error {\n",
    "    case skipEpoch\n",
    "    case skipBatch\n",
    "    case stop\n",
    "}"
   ]
  },
  {
   "cell_type": "code",
   "execution_count": 9,
   "metadata": {},
   "outputs": [],
   "source": [
    "/// A model trainer, responsible for initializing and training a model on a given dataset.\n",
    "// NOTE: When TF-421 is fixed, make `Label` not constrained to `Differentiable`.\n",
    "public final class Trainer<Dataset: Collection, Label: Differentiable,\n",
    "                           Loss: Differentiable & BinaryFloatingPoint,\n",
    "                           Optimizer: TensorFlow.Optimizer & AnyObject>\n",
    "    where Dataset.Element == Example<Optimizer.Model.Input, Label>,\n",
    "          Optimizer.Scalar: Differentiable,\n",
    "          Loss == Loss.CotangentVector\n",
    "{\n",
    "    // Common type aliases.\n",
    "    public typealias Model = Optimizer.Model\n",
    "    public typealias Data = Model.Input\n",
    "    public typealias Variables = Model.AllDifferentiableVariables\n",
    "    // NOTE: When TF-421 is fixed, replace with:\n",
    "    //   public typealias LossFunction = @differentiable (Model.Output, @nondiff Label) -> Loss\n",
    "    public typealias LossFunction = @differentiable (Model.Output, Label) -> Loss\n",
    "    public typealias EventHandler = (Trainer) throws -> Void\n",
    "    \n",
    "    /// The dataset on which the model will be trained.\n",
    "    public let dataset: Dataset\n",
    "    /// The optimizer used for updating model parameters along gradient vectors.\n",
    "    public var optimizer: Optimizer\n",
    "    /// The function that computes a loss value when given a prediction and a label.\n",
    "    public var lossFunction: LossFunction\n",
    "    /// The model being trained.\n",
    "    public var model: Model\n",
    "    \n",
    "    /// The number of total epochs.\n",
    "    public private(set) var epochCount: Int = .zero\n",
    "    /// The current epoch.\n",
    "    public private(set) var currentEpoch: Int = .zero\n",
    "    /// The current gradient.\n",
    "    public private(set) var currentGradient: Model.CotangentVector = .zero\n",
    "    /// The current loss.\n",
    "    public private(set) var currentLoss: Loss = .zero\n",
    "\n",
    "    /// A closure which will be called upon the start of model fitting.\n",
    "    public var fittingStartHandler: EventHandler?\n",
    "    /// A closure which will be called upon the completion of model fitting.\n",
    "    public var fittingCompletionHandler: EventHandler?\n",
    "    /// A closure which will be called upon the start of an epoch.\n",
    "    public var epochStartHandler: EventHandler?\n",
    "    /// A closure which will be called upon the completion of an epoch.\n",
    "    public var epochCompletionHandler: EventHandler?\n",
    "    /// A closure which will be called upon the start of model validation.\n",
    "    public var validationStartHandler: EventHandler?\n",
    "    /// A closure which will be called upon the start of training on a batch.\n",
    "    public var batchStartHandler: EventHandler?\n",
    "    /// A closure which will be called upon the completion of training on a batch.\n",
    "    public var batchCompletionHandler: EventHandler?\n",
    "    /// A closure which will be called when a new loss has been computed.\n",
    "    public var newLossHandler: EventHandler?\n",
    "    /// A closure which will be called when a new gradient has been computed.\n",
    "    public var newGradientHandler: EventHandler?\n",
    "    /// A closure which will be called upon the completion of an optimizer update.\n",
    "    public var optimizerUpdateCompletionHandler: EventHandler?\n",
    "    \n",
    "    /// The context used for layer applications.\n",
    "    private let context = Context(learningPhase: .training)\n",
    "\n",
    "    /// Creates a trainer.\n",
    "    ///\n",
    "    /// - Parameters:\n",
    "    ///   - dataset: The dataset which will be trained on.\n",
    "    ///   - lossFunction: The loss function.\n",
    "    ///   - optimizer: The optimizer used for updating model parameters along\n",
    "    ///     gradient vectors.\n",
    "    ///   - modelInitializer: The closure that produces an model to be trained.\n",
    "    ///\n",
    "    public init(dataset: Dataset,\n",
    "                lossFunction: @escaping LossFunction,\n",
    "                optimizer: Optimizer,\n",
    "                initializingWith modelInitializer: () -> Model) {\n",
    "        self.dataset = dataset\n",
    "        self.optimizer = optimizer\n",
    "        self.lossFunction = lossFunction\n",
    "        self.model = modelInitializer()\n",
    "    }\n",
    "}"
   ]
  },
  {
   "cell_type": "markdown",
   "metadata": {},
   "source": [
    "### Methods\n",
    "\n",
    "The core method on `Trainer` is `fit(epochCount:)`."
   ]
  },
  {
   "cell_type": "code",
   "execution_count": 19,
   "metadata": {},
   "outputs": [],
   "source": [
    "extension Trainer {\n",
    "    /// Train operation on batch.\n",
    "    ///\n",
    "    /// - Parameter batch: The batch of input data and labels to be trained on.\n",
    "    ///\n",
    "    private func train(on batch: Dataset.Element) throws {\n",
    "        // NOTE: When the \"subset of parameters\" bug is fixed, replace with:\n",
    "        //   let (loss, grad) = model.valueWithGradient { model -> Loss in\n",
    "        //      let y = model.applied(to: batch.data, in: context)\n",
    "        //      return lossFunction(y, batch.label)\n",
    "        //   }\n",
    "        let (loss, (grad, _)) = model.valueWithGradient(at: batch.label) { (model, label) -> Loss in\n",
    "            let y = model.applied(to: batch.data, in: context)\n",
    "            return lossFunction(y, label)\n",
    "        }\n",
    "        // NOTE: Put this inside `valueWithGradient`'s trailing closure when differentiation\n",
    "        // supports throwing functions.\n",
    "        try newLossHandler?(self)\n",
    "        try newGradientHandler?(self)\n",
    "        optimizer.update(&model.allDifferentiableVariables, along: grad)\n",
    "        try optimizerUpdateCompletionHandler?(self)\n",
    "    }\n",
    "    \n",
    "    private func performEpoch(_ i: Int) throws {\n",
    "        currentEpoch = i\n",
    "        try epochStartHandler?(self)\n",
    "        for batch in dataset {\n",
    "            try batchStartHandler?(self)\n",
    "            do { try train(on: batch) }\n",
    "            catch TrainerAction.skipBatch { break }\n",
    "            try batchCompletionHandler?(self)\n",
    "        }\n",
    "        try epochCompletionHandler?(self)\n",
    "    }\n",
    "\n",
    "    /// Fit parameters.\n",
    "    ///\n",
    "    /// - Parameter epochCount: The number of epochs that will be run.\n",
    "    ///\n",
    "    public func fit(epochCount: Int) throws {\n",
    "        self.epochCount = epochCount\n",
    "        self.currentEpoch = 0\n",
    "        do {\n",
    "            try fittingStartHandler?(self)\n",
    "            for i in 0..<epochCount {\n",
    "                do { try performEpoch(i) }\n",
    "                catch TrainerAction.skipEpoch { break }\n",
    "            }\n",
    "            try fittingCompletionHandler?(self)\n",
    "        } catch TrainerAction.stop { return }\n",
    "    }\n",
    "}"
   ]
  },
  {
   "cell_type": "markdown",
   "metadata": {},
   "source": [
    "In the short term, we call it `Learner` instead."
   ]
  },
  {
   "cell_type": "code",
   "execution_count": 11,
   "metadata": {},
   "outputs": [],
   "source": [
    "public typealias Learner = Trainer"
   ]
  },
  {
   "cell_type": "markdown",
   "metadata": {},
   "source": [
    "## Examples"
   ]
  },
  {
   "cell_type": "markdown",
   "metadata": {},
   "source": [
    "### Simple training loop"
   ]
  },
  {
   "cell_type": "code",
   "execution_count": null,
   "metadata": {},
   "outputs": [],
   "source": []
  }
 ],
 "metadata": {
  "kernelspec": {
   "display_name": "Swift",
   "language": "swift",
   "name": "swift"
  },
  "language_info": {
   "file_extension": ".swift",
   "mimetype": "text/x-swift",
   "name": "swift",
   "version": ""
  }
 },
 "nbformat": 4,
 "nbformat_minor": 2
}
