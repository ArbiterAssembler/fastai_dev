{
 "cells": [
  {
   "cell_type": "code",
   "execution_count": null,
   "metadata": {},
   "outputs": [
    {
     "name": "stdout",
     "output_type": "stream",
     "text": [
      "Installing packages:\n",
      "\t.package(path: \"/home/jupyter/git/fastai_docs/dev_swift/FastaiNotebook_10_mixup_ls\")\n",
      "\t\tFastaiNotebook_10_mixup_ls\n",
      "With SwiftPM flags: []\n",
      "Working in: /tmp/tmpiqhmjw2u/swift-install\n",
      "/home/jupyter/swift/usr/bin/swift-build: /home/jupyter/anaconda3/envs/swift/lib/libuuid.so.1: no version information available (required by /home/jupyter/swift/usr/lib/swift/linux/libFoundation.so)\n",
      "/home/jupyter/swift/usr/bin/swiftc: /home/jupyter/anaconda3/envs/swift/lib/libuuid.so.1: no version information available (required by /home/jupyter/swift/usr/bin/swiftc)\n",
      "Compile Swift Module 'FastaiNotebook_10_mixup_ls' (15 sources)\n",
      "/home/jupyter/swift/usr/bin/swiftc: /home/jupyter/anaconda3/envs/swift/lib/libuuid.so.1: no version information available (required by /home/jupyter/swift/usr/bin/swiftc)\n",
      "\n",
      "/home/jupyter/swift/usr/bin/swift: /home/jupyter/anaconda3/envs/swift/lib/libuuid.so.1: no version information available (required by /home/jupyter/swift/usr/bin/swift)\n",
      "/home/jupyter/git/fastai_docs/dev_swift/FastaiNotebook_10_mixup_ls/Sources/FastaiNotebook_10_mixup_ls/00_load_data.swift:65:40: error: cannot convert value of type 'Int' to expected element type 'Int32'\n",
      "    let shape: TensorShape = labels ? [batch] : (flat ? [batch, 784] : [batch, 28, 28])\n",
      "                                       ^~~~~\n",
      "                                       Int32( )\n",
      "/home/jupyter/git/fastai_docs/dev_swift/FastaiNotebook_10_mixup_ls/Sources/FastaiNotebook_10_mixup_ls/01a_fastai_layers.swift:268:1: warning: stored property '_buffer' has no derivative because it does not conform to 'Differentiable'; add '@noDerivative' to make it explicit\n",
      "extension Array: Layer where Element: Layer, Element.Input == Element.Output {\n",
      "^\n",
      "/home/jupyter/git/fastai_docs/dev_swift/FastaiNotebook_10_mixup_ls/Sources/FastaiNotebook_10_mixup_ls/01a_fastai_layers.swift:61:15: error: type 'FADense<Scalar>' does not conform to protocol 'Layer'\n",
      "public struct FADense<Scalar: TensorFlowFloatingPoint>: FALayer { \n",
      "              ^\n",
      "TensorFlow.Layer:5:10: note: protocol requires function 'applied(to:in:)' with type '(Tensor<Scalar>, Context) -> Tensor<Scalar>'; do you want to add a stub?\n",
      "    func applied(to input: Self.Input, in context: TensorFlow.Context) -> Self.Output\n",
      "         ^\n",
      "/home/jupyter/git/fastai_docs/dev_swift/FastaiNotebook_10_mixup_ls/Sources/FastaiNotebook_10_mixup_ls/01a_fastai_layers.swift:95:15: error: type 'FANoBiasConv2D<Scalar>' does not conform to protocol 'Layer'\n",
      "public struct FANoBiasConv2D<Scalar: TensorFlowFloatingPoint>: FALayer {\n",
      "              ^\n",
      "TensorFlow.Layer:5:10: note: protocol requires function 'applied(to:in:)' with type '(Tensor<Scalar>, Context) -> Tensor<Scalar>'; do you want to add a stub?\n",
      "    func applied(to input: Self.Input, in context: TensorFlow.Context) -> Self.Output\n",
      "         ^\n",
      "/home/jupyter/git/fastai_docs/dev_swift/FastaiNotebook_10_mixup_ls/Sources/FastaiNotebook_10_mixup_ls/01a_fastai_layers.swift:154:15: error: type 'FAConv2D<Scalar>' does not conform to protocol 'Layer'\n",
      "public struct FAConv2D<Scalar: TensorFlowFloatingPoint>: FALayer {\n",
      "              ^\n",
      "TensorFlow.Layer:5:10: note: protocol requires function 'applied(to:in:)' with type '(FAConv2D<Scalar>.Input, Context) -> FAConv2D<Scalar>.Output'; do you want to add a stub?\n",
      "    func applied(to input: Self.Input, in context: TensorFlow.Context) -> Self.Output\n",
      "         ^\n",
      "/home/jupyter/git/fastai_docs/dev_swift/FastaiNotebook_10_mixup_ls/Sources/FastaiNotebook_10_mixup_ls/01a_fastai_layers.swift:220:15: error: type 'FAAvgPool2D<Scalar>' does not conform to protocol 'Layer'\n",
      "public struct FAAvgPool2D<Scalar: TensorFlowFloatingPoint>: FALayer {\n",
      "              ^\n",
      "TensorFlow.Layer:5:10: note: protocol requires function 'applied(to:in:)' with type '(Tensor<Scalar>, Context) -> Tensor<Scalar>'; do you want to add a stub?\n",
      "    func applied(to input: Self.Input, in context: TensorFlow.Context) -> Self.Output\n",
      "         ^\n",
      "/home/jupyter/git/fastai_docs/dev_swift/FastaiNotebook_10_mixup_ls/Sources/FastaiNotebook_10_mixup_ls/01a_fastai_layers.swift:257:15: error: type 'FAGlobalAvgPool2D<Scalar>' does not conform to protocol 'Layer'\n",
      "public struct FAGlobalAvgPool2D<Scalar: TensorFlowFloatingPoint>: FALayer {\n",
      "              ^\n",
      "TensorFlow.Layer:5:10: note: protocol requires function 'applied(to:in:)' with type '(Tensor<Scalar>, Context) -> Tensor<Scalar>'; do you want to add a stub?\n",
      "    func applied(to input: Self.Input, in context: TensorFlow.Context) -> Self.Output\n",
      "         ^\n",
      "/home/jupyter/git/fastai_docs/dev_swift/FastaiNotebook_10_mixup_ls/Sources/FastaiNotebook_10_mixup_ls/01a_fastai_layers.swift:268:1: error: type 'Array<Element>' does not conform to protocol 'Layer'\n",
      "extension Array: Layer where Element: Layer, Element.Input == Element.Output {\n",
      "^\n",
      "/home/jupyter/git/fastai_docs/dev_swift/FastaiNotebook_10_mixup_ls/Sources/FastaiNotebook_10_mixup_ls/01a_fastai_layers.swift:268:1: error: conditional confo\n",
      "rmance of type 'Array<Element>' to protocol 'Layer' does not imply conformance to inherited protocol 'Differentiable'\n",
      "extension Array: Layer where Element: Layer, Element.Input == Element.Output {\n",
      "^\n",
      "TensorFlow.Layer:5:10: note: protocol requires function 'applied(to:in:)' with type '(Array<Element>.Input, Context) -> Array<Element>.Output'; do you want to add a stub?\n",
      "    func applied(to input: Self.Input, in context: TensorFlow.Context) -> Self.Output\n",
      "         ^\n",
      "/home/jupyter/git/fastai_docs/dev_swift/FastaiNotebook_10_mixup_ls/Sources/FastaiNotebook_10_mixup_ls/01a_fastai_layers.swift:24:61: error: cannot invoke 'standardDeviation' with an argument list of type '(alongAxes: [Int])'\n",
      "    func std(alongAxes a: [Int]) -> Tensor<Scalar> { return standardDeviation(alongAxes: a) }\n",
      "                                                            ^\n",
      "/home/jupyter/git/fastai_docs/dev_swift/FastaiNotebook_10_mixup_ls/Sources/FastaiNotebook_10_mixup_ls/01a_fastai_layers.swift:24:61: note: overloads for 'standardDeviation' exist with these partially matching parameter lists: (alongAxes: Int32...), (alongAxes: [Int32])\n",
      "    func std(alongAxes a: [Int]) -> Tensor<Scalar> { return standardDeviation(alongAxes: a) }\n",
      "                                                            ^\n",
      "/home/jupyter/git/fastai_docs/dev_swift/FastaiNotebook_10_mixup_ls/Sources/FastaiNotebook_10_mixup_ls/01a_fastai_layers.swift:25:69: error: cannot invoke 'standardDeviation' with an argument list of type '(alongAxes: Tensor<Int32>)'\n",
      "    func std(alongAxes a: Tensor<Int32>) -> Tensor<Scalar> { return standardDeviation(alongAxes: a) }\n",
      "                                                                    ^\n",
      "/home/jupyter/git/fastai_docs/dev_swift/FastaiNotebook_10_mixup_ls/Sources/FastaiNotebook_10_mixup_ls/01a_fastai_layers.swift:25:69: note: overloads for 'standardDeviation' exist with these partially matching parameter lists: (alongAxes: Int32...), (alongAxes: [Int32])\n",
      "    func std(alongAxes a: Tensor<Int32>) -> Tensor<Scalar> { return standardDeviation(alongAxes: a) }\n",
      "                                                                    ^\n",
      "/home/jupyter/git/fastai_docs/dev_swift/FastaiNotebook_10_mixup_ls/Sources/FastaiNotebook_10_mixup_ls/01a_fastai_layers.swift:26:62: error: cannot invoke 'standardDeviation' with an argument list of type '(alongAxes: [Int])'\n",
      "    func std(alongAxes a: Int...) -> Tensor<Scalar> { return standardDeviation(alongAxes: a) }\n",
      "                                                             ^\n",
      "/home/jupyter/git/fastai_docs/dev_swift/FastaiNotebook_10_mixup_ls/Sources/FastaiNotebook_10_mixup_ls/01a_fastai_layers.swift:26:62: note: overloads for 'standardDeviation' exist with these partially matching parameter lists: (alongAxes: Int32...), (alongAxes: [Int32])\n",
      "    func std(alongAxes a: Int...) -> Tensor<Scalar> { return standardDeviation(alongAxes: a) }\n",
      "                                                             ^\n",
      "/home/jupyter/git/fastai_docs/dev_swift/FastaiNotebook_10_mixup_ls/Sources/FastaiNotebook_10_mixup_ls/01a_fastai_layers.swift:27:65: error: argument labels '(squeezingAxes:)' do not match any available overloads\n",
      "    func std(squeezingAxes a: [Int]) -> Tensor<Scalar> { return standardDeviation(squeezingAxes: a) }\n",
      "                                                                ^                ~~~~~~~~~~~~~~~~~~\n"
     ]
    },
    {
     "name": "stdout",
     "output_type": "stream",
     "text": [
      "/home/jupyter/git/fastai_docs/dev_swift/FastaiNotebook_10_mixup_ls/Sources/FastaiNotebook_10_mixup_ls/01a_fastai_layers.swift:27:65: note: overloads for 'standardDeviation' exist with these partially matching parameter lists: (alongAxes: Int32...), (alongAxes: [Int32])\n",
      "    func std(squeezingAxes a: [Int]) -> Tensor<Scalar> { return standardDeviation(squeezingAxes: a) }\n",
      "                                                                ^\n",
      "/home/jupyter/git/fastai_docs/dev_swift/FastaiNotebook_10_mixup_ls/Sources/FastaiNotebook_10_mixup_ls/01a_fastai_layers.swift:28:73: error: argument labels '(squeezingAxes:)' do not match any available overloads\n",
      "    func std(squeezingAxes a: Tensor<Int32>) -> Tensor<Scalar> { return standardDeviation(squeezingA\n",
      "xes: a) }\n",
      "                                                                        ^                ~~~~~~~~~~~~~~~~~~\n",
      "/home/jupyter/git/fastai_docs/dev_swift/FastaiNotebook_10_mixup_ls/Sources/FastaiNotebook_10_mixup_ls/01a_fastai_layers.swift:28:73: note: overloads for 'standardDeviation' exist with these partially matching parameter lists: (alongAxes: Int32...), (alongAxes: [Int32])\n",
      "    func std(squeezingAxes a: Tensor<Int32>) -> Tensor<Scalar> { return standardDeviation(squeezingAxes: a) }\n",
      "                                                                        ^\n",
      "/home/jupyter/git/fastai_docs/dev_swift/FastaiNotebook_10_mixup_ls/Sources/FastaiNotebook_10_mixup_ls/01a_fastai_layers.swift:29:66: error: argument labels '(squeezingAxes:)' do not match any available overloads\n",
      "    func std(squeezingAxes a: Int...) -> Tensor<Scalar> { return standardDeviation(squeezingAxes: a) }\n",
      "                                                                 ^                ~~~~~~~~~~~~~~~~~~\n",
      "/home/jupyter/git/fastai_docs/dev_swift/FastaiNotebook_10_mixup_ls/Sources/FastaiNotebook_10_mixup_ls/01a_fastai_layers.swift:29:66: note: overloads for 'standardDeviation' exist with these partially matching parameter lists: (alongAxes: Int32...), (alongAxes: [Int32])\n",
      "    func std(squeezingAxes a: Int...) -> Tensor<Scalar> { return standardDeviation(squeezingAxes: a) }\n",
      "                                                                 ^\n",
      "/home/jupyter/git/fastai_docs/dev_swift/FastaiNotebook_10_mixup_ls/Sources/FastaiNotebook_10_mixup_ls/01a_fastai_layers.swift:87:50: error: cannot convert value of type 'Int' to expected element type 'Int32'\n",
      "        self.init(weight: Tensor(kaimingNormal: [nIn, nOut]),\n",
      "                                                 ^~~\n",
      "                                                 Int32( )\n",
      "/home/jupyter/git/fastai_docs/dev_swift/FastaiNotebook_10_mixup_ls/Sources/FastaiNotebook_10_mixup_ls/01a_fastai_layers.swift:119:66: error: cannot convert value of type 'Int' to expected argument type 'Int32'\n",
      "                                            strides: (1, strides.0, strides.1, 1),\n",
      "                                                         ~~~~~~~~^\n",
      "                                                         Int32(   )\n",
      "/home/jupyter/git/fastai_docs/dev_swift/FastaiNotebook_10_mixup_ls/Sources/FastaiNotebook_10_mixup_ls/01a_fastai_layers.swift:131:33: error: cannot invoke initializer for type 'TensorShape' with an argument list of type '([Int])'\n",
      "        let filterTensorShape = TensorShape([\n",
      "                                ^\n",
      "/home/jupyter/git/fastai_docs/dev_swift/FastaiNotebook_10_mixup_ls/Sources/FastaiNotebook_10_mixup_ls/01a_fastai_layers.swift:131:33: note: overloads for 'TensorShape' exist with these partially matching parameter lists: ([Int32]), (Int32...), (PythonObject)\n",
      "        let filterTensorShape = TensorShape([\n",
      "                                ^\n",
      "/home/jupyter/git/fastai_docs/dev_swift/FastaiNotebook_10_mixup_ls/Sources/FastaiNotebook_10_mixup_ls/01a_fastai_layers.swift:184:66: error: cannot convert value of type 'Int' to expected argument type 'Int32'\n",
      "                                            strides: (1, strides.0, strides.1, 1),\n",
      "                                                         ~~~~~~~~^\n",
      "                                                         Int32(   )\n",
      "/home/jupyter/git/fastai_docs/dev_swift/FastaiNotebook_10_mixup_ls/Sources/FastaiNotebook_10_mixup_ls/01a_fastai_layers.swift:196:33: error: cannot invoke initializer for type 'TensorShape' with an argument list of type '([Int])'\n",
      "        let filterTensorShape = TensorShape([\n",
      "                                ^\n",
      "/home/jupyter/git/fastai_docs/dev_swift/FastaiNotebook_10_mixup_ls/Sources/FastaiNotebook_10_mixup_ls/01a_fastai_layers.swift:196:33: note: overloads for 'TensorShape' exist with these partially matching parameter lists: ([Int32]), (Int32...), (PythonObject)\n",
      "        let filterTensorShape = TensorShape([\n",
      "                                ^\n",
      "/home/jupyter/git/fastai_docs/dev_swift/FastaiNotebook_10_mixup_ls/Sources/FastaiNotebook_10_mixup_ls/01a_fastai_layers.swift:251:48:\n",
      " error: cannot convert value of type '(Int, Int, Int, Int)' to expected argument type '(Int32, Int32, Int32, Int32)'\n",
      "        return input.averagePooled(kernelSize: poolSize, strides: strides, padding: padding)\n",
      "                                               ^~~~~~~~\n",
      "/home/jupyter/git/fastai_docs/dev_swift/FastaiNotebook_10_mixup_ls/Sources/FastaiNotebook_10_mixup_ls/01a_fastai_layers.swift:276:31: error: cannot call value of non-function type 'Element'\n",
      "            activation = layer(activation)\n",
      "                         ~~~~~^\n",
      "/home/jupyter/git/fastai_docs/dev_swift/FastaiNotebook_10_mixup_ls/Sources/FastaiNotebook_10_mixup_ls/01a_fastai_layers.swift:287:90: error: type of expression is ambiguous without more context\n",
      "            let (newActivation, newPullback) = layer.valueWithPullback(at: activation) { $0($1) }\n",
      "                                                                                         ^~~~~~\n",
      "/home/jupyter/git/fastai_docs/dev_swift/FastaiNotebook_10_mixup_ls/Sources/FastaiNotebook_10_mixup_ls/01a_fastai_layers.swift:299:58: error: argument passed to call that takes no arguments\n",
      "            return (Array.CotangentVector(layerGradients.reversed()), activationGradient)\n",
      "                                         ~~~~~~~~~~~~~~~~^~~~~~~~~~~\n",
      "/home/jupyter/git/fastai_docs/dev_swift/FastaiNotebook_10_mixup_ls/Sources/FastaiNotebook_10_mixup_ls/04_callbacks.swift:76:20: warning: redundant conformance constraint 'Opt.Model': 'Layer'\n",
      "          Opt.Model: Layer,\n",
      "                   ^\n",
      "/home/jupyter/git/fastai_docs/dev_swift/FastaiNotebook_10_mixup_ls/Sources/FastaiNotebook_10_mixup_ls/04_callbacks.swift:74:33: note: conformance constraint 'Opt.Model': 'Layer' implied here\n",
      "                           Opt: TensorFlow.Optimizer & AnyObject>\n",
      "                                ^\n",
      "/home/jupyter/git/fastai_docs/dev_swift/FastaiNotebook_10_mixup_ls/Sources/FastaiNotebook_10_mixup_ls/04_callbacks.swift:10:15: error: type 'BasicModel' does not conform to protocol 'Layer'\n",
      "public struct BasicModel: Layer {\n",
      "              ^\n",
      "TensorFlow.Layer:2:20: note: protocol requires nested type 'Input'; do you want to add it?\n",
      "    associatedtype Input : Differentiable\n",
      "                   ^\n",
      "TensorFlow.Layer:3:20: note: protocol requires nested type 'Output'; do you want to add it?\n",
      "    associatedtype Output : Differentiable\n",
      "                   ^\n",
      "/home/jupyter/git/fastai_docs/dev_swift/FastaiNotebook_10_mixup_ls/Sources/FastaiNotebook_10_mixup_ls/04_callbacks.swift:21:22: error: cannot invoke 'sequenced' with an argument list of type '(through: FADense<Float>, FADense<Float>)'\n",
      "        return input.sequenced(through: layer1, layer2)\n",
      "                     ^\n",
      "/home/jupyter/git/fastai_docs/dev_swift/FastaiNotebook_10_mixup_ls/Sources/FastaiNotebook_10_mixup_ls/04_callbacks.swift:21:22: note: overloads for 'sequenced' exist with these partially matching parameter lists: (in: Context, through: L1, L2), (in: Context, through: L1, L2, L3), (in: Context, through: L1, L2, L3, L4), (in: Context, through: L1, L2, L3, L4, L5), (in: Context, through: L1, L2, L3, L4, L5, L6)\n",
      "        return input.sequenced(through: layer1, layer2)\n",
      "                     ^\n",
      "/home/jupyter/git/fastai_docs/dev_swift/FastaiNotebook_10_mixup_ls/Sources/FastaiNotebook_10_mixup_ls/04_callbacks.swift:36:46: error: cannot convert value of type 'Int' to expected argument type 'Int64'\n"
     ]
    },
    {
     "name": "stdout",
     "output_type": "stream",
     "text": [
      "        if !shuffle { return innerDs.batched(bs)}\n",
      "                                             ^~\n",
      "                                             Int64( )\n",
      "/home/jupyter/git/fastai_docs/dev_swift/FastaiNotebook_10_mixup_ls/Sources/FastaiNotebook_10_mixup_ls/04_callbacks.swift:38:46: error: cannot convert value of type 'Int' to expected argument type 'Int64'\n",
      "        return innerDs.shuffled(sampleCount: dsCount, randomSeed: seed).batched(bs)\n",
      "                                             ^~~~~~~\n",
      "                                             Int64( )\n",
      "/home/jupyter/git/fastai_docs/dev_swift/FastaiNotebook_10_mixup_ls/Sources/FastaiNotebook_10_mixup_ls/04_callbacks.swift:61:44: error: cannot subscript a value of type 'TensorShape' with an in\n",
      "dex of type 'Int'\n",
      "                     trainLen: xTrain.shape[0],\n",
      "                                           ^\n",
      "/home/jupyter/git/fastai_docs/dev_swift/FastaiNotebook_10_mixup_ls/Sources/FastaiNotebook_10_mixup_ls/04_callbacks.swift:61:44: note: overloads for 'subscript' exist with these partially matching parameter lists: (Int32), (Range<Int32>)\n",
      "                     trainLen: xTrain.shape[0],\n",
      "                                           ^\n",
      "/home/jupyter/git/fastai_docs/dev_swift/FastaiNotebook_10_mixup_ls/Sources/FastaiNotebook_10_mixup_ls/04_callbacks.swift:183:30: error: cannot call value of non-function type 'Opt.Model'\n",
      "        currentOutput = model(currentInput!)\n",
      "                        ~~~~~^\n",
      "/home/jupyter/git/fastai_docs/dev_swift/FastaiNotebook_10_mixup_ls/Sources/FastaiNotebook_10_mixup_ls/04_callbacks.swift:190:26: error: cannot call value of non-function type 'Opt.Model'\n",
      "            let y = model(xb)                                      \n",
      "                    ~~~~~^\n",
      "/home/jupyter/git/fastai_docs/dev_swift/FastaiNotebook_10_mixup_ls/Sources/FastaiNotebook_10_mixup_ls/04_callbacks.swift:251:13: error: type 'Context' has no member 'local'\n",
      "            Context.local.learningPhase = .training\n",
      "            ^~~~~~~ ~~~~~\n",
      "/home/jupyter/git/fastai_docs/dev_swift/FastaiNotebook_10_mixup_ls/Sources/FastaiNotebook_10_mixup_ls/04_callbacks.swift:263:13: error: type 'Context' has no member 'local'\n",
      "            Context.local.learningPhase = .inference\n",
      "            ^~~~~~~ ~~~~~\n",
      "/home/jupyter/git/fastai_docs/dev_swift/FastaiNotebook_10_mixup_ls/Sources/FastaiNotebook_10_mixup_ls/04_callbacks.swift:290:27: error: binary operator '+=' cannot be applied to operands of type 'Int' and 'Int32'\n",
      "                    total += bs\n",
      "                    ~~~~~ ^  ~~\n",
      "/home/jupyter/git/fastai_docs/dev_swift/FastaiNotebook_10_mixup_ls/Sources/FastaiNotebook_10_mixup_ls/04_callbacks.swift:290:27: note: overloads for '+=' exist with these partially matching parameter lists: (inout Int32, Int32), (inout Int, Int)\n",
      "                    total += bs\n",
      "                          ^\n",
      "\n",
      "/home/jupyter/swift/usr/bin/swift: /home/jupyter/anaconda3/envs/swift/lib/libuuid.so.1: no version information available (required by /home/jupyter/swift/usr/bin/swift)\n",
      "/home/jupyter/git/fastai_docs/dev_swift/FastaiNotebook_10_mixup_ls/Sources/FastaiNotebook_10_mixup_ls/04_callbacks.swift:76:20: warning: redundant conformance constraint 'Opt.Model': 'Layer'\n",
      "          Opt.Model: Layer,\n",
      "                   ^\n",
      "/home/jupyter/git/fastai_docs/dev_swift/FastaiNotebook_10_mixup_ls/Sources/FastaiNotebook_10_mixup_ls/04_callbacks.swift:74:33: note: conformance constraint 'Opt.Model': 'Layer' implied here\n",
      "                           Opt: TensorFlow.Optimizer & AnyObject>\n",
      "                                ^\n",
      "/home/jupyter/git/fastai_docs/dev_swift/FastaiNotebook_10_mixup_ls/Sources/FastaiNotebook_10_mixup_ls/01a_fastai_layers.swift:268:1: warning: stored property '_buffer' has no derivative because it does not conform to 'Differentiable'; add '@noDerivative' to make it explicit\n",
      "extension Array: Layer where Element: Layer, Element.Input == Element.Output {\n",
      "^\n"
     ]
    }
   ],
   "source": [
    "%install-location $cwd/swift-install\n",
    "%install '.package(path: \"$cwd/FastaiNotebook_10_mixup_ls\")' FastaiNotebook_10_mixup_ls\n",
    "// %install '.package(path: \"$cwd/FastaiNotebook_00_load_data\")' FastaiNotebook_00_load_data\n",
    "// %install '.package(url: \"https://github.com/mxcl/Path.swift\", from: \"0.16.1\")' Path\n",
    "// %install '.package(url: \"https://github.com/JustHTTP/Just\", from: \"0.7.1\")' Just\n",
    "// %install '.package(url: \"https://github.com/mechamoth/SwiftFFmpeg\", from: \"1.5.0\")' SwiftFFmpeg \n",
    "// %install '.package(url: \"https://github.com/mechamoth/WAVCat\", .branch(\"cf2eca3\"))' WAVCat"
   ]
  },
  {
   "cell_type": "code",
   "execution_count": null,
   "metadata": {},
   "outputs": [],
   "source": [
    "import Foundation\n",
    "import TensorFlow\n",
    "import FastaiNotebook_10_mixup_ls\n",
    "// import WAVCat\n",
    "// import SwiftFFmpeg"
   ]
  },
  {
   "cell_type": "code",
   "execution_count": null,
   "metadata": {},
   "outputs": [],
   "source": [
    "%include \"EnableIPythonDisplay.swift\"\n",
    "IPythonDisplay.shell.enable_matplotlib(\"inline\")"
   ]
  },
  {
   "cell_type": "code",
   "execution_count": null,
   "metadata": {},
   "outputs": [],
   "source": [
    "public extension StringTensor {\n",
    "    // Decode a StringTensor holding a path to a WAV file into (audio: Tensor<Float>, sampleRate: Tensor<Int32>)\n",
    "    func decodeWav() -> (audio: Tensor<Float>, sampleRate: Tensor<Int32>) {\n",
    "        return Raw.decodeWav(contents: self)\n",
    "    }\n",
    "}"
   ]
  },
  {
   "cell_type": "code",
   "execution_count": null,
   "metadata": {},
   "outputs": [],
   "source": [
    "let wav_file = \"m0005_us_m0005_00445.wav\""
   ]
  },
  {
   "cell_type": "code",
   "execution_count": null,
   "metadata": {},
   "outputs": [],
   "source": [
    "let (sig, sr) = StringTensor(readFile: wav_file).decodeWav()"
   ]
  },
  {
   "cell_type": "code",
   "execution_count": null,
   "metadata": {},
   "outputs": [],
   "source": [
    "let audiodata = sig.makeNumpyArray()"
   ]
  },
  {
   "cell_type": "code",
   "execution_count": null,
   "metadata": {},
   "outputs": [],
   "source": [
    "plt.plot(audiodata) \n",
    "// plt.axis(\"off\")\n",
    "plt.show()"
   ]
  },
  {
   "cell_type": "code",
   "execution_count": null,
   "metadata": {},
   "outputs": [],
   "source": [
    "let spec = Raw.audioSpectrogram(sig, \n",
    "                                windowSize: 1024, stride: 256, magnitudeSquared: false)"
   ]
  },
  {
   "cell_type": "code",
   "execution_count": null,
   "metadata": {},
   "outputs": [],
   "source": [
    "func showSpec(s: Tensor<Float>) {\n",
    "    plt.imshow(s.makeNumpyArray()[0], cmap: \"plasma\")\n",
    "    plt.show()\n",
    "    print(\"Shape: \\(s.shape)\\nMin:\\(s.min()), max: \\(s.max()), mean: \\(s.mean()), var: \\(s.variance())\")\n",
    "}"
   ]
  },
  {
   "cell_type": "code",
   "execution_count": null,
   "metadata": {},
   "outputs": [],
   "source": [
    "showSpec(s: spec)"
   ]
  },
  {
   "cell_type": "markdown",
   "metadata": {},
   "source": [
    "[TF defaults](https://github.com/tensorflow/tensorflow/blob/master/tensorflow/core/ops/audio_ops.cc#L147) for MFCCs:\n",
    "```\n",
    "    .Attr(\"upper_frequency_limit: float = 4000\")\n",
    "    .Attr(\"lower_frequency_limit: float = 20\")\n",
    "    .Attr(\"filterbank_channel_count: int = 40\")\n",
    "    .Attr(\"dct_coefficient_count: int = 13\")\n",
    "```"
   ]
  },
  {
   "cell_type": "code",
   "execution_count": null,
   "metadata": {},
   "outputs": [],
   "source": [
    "let mfccs = Raw.mfcc(spectrogram: spec, sampleRate: sr, \n",
    "                       upperFrequencyLimit: 8000, lowerFrequencyLimit: 20, \n",
    "                       filterbankChannelCount: 40, dctCoefficientCount: 13)"
   ]
  },
  {
   "cell_type": "code",
   "execution_count": null,
   "metadata": {},
   "outputs": [],
   "source": [
    "showSpec(s: mfccs)"
   ]
  },
  {
   "cell_type": "code",
   "execution_count": null,
   "metadata": {},
   "outputs": [],
   "source": []
  }
 ],
 "metadata": {
  "kernelspec": {
   "display_name": "Swift",
   "language": "swift",
   "name": "swift"
  }
 },
 "nbformat": 4,
 "nbformat_minor": 2
}
