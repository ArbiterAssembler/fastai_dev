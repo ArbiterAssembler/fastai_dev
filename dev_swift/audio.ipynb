{
 "cells": [
  {
   "cell_type": "code",
   "execution_count": null,
   "metadata": {},
   "outputs": [
    {
     "name": "stdout",
     "output_type": "stream",
     "text": [
      "Installing packages:\n",
      "\t.package(path: \"/home/jupyter/git/fastai_docs/dev_swift/FastaiNotebook_10_mixup_ls\")\n",
      "\t\tFastaiNotebook_10_mixup_ls\n",
      "With SwiftPM flags: []\n",
      "Working in: /tmp/tmpo53sq9ns/swift-install\n",
      "/home/jupyter/swift/usr/bin/swift-build: /home/jupyter/anaconda3/envs/swift/lib/libuuid.so.1: no version information available (required by /home/jupyter/swift/usr/lib/swift/linux/libFoundation.so)\n",
      "/home/jupyter/swift/usr/bin/swiftc: /home/jupyter/anaconda3/envs/swift/lib/libuuid.so.1: no version information available (required by /home/jupyter/swift/usr/bin/swiftc)\n",
      "Compile Swift Module 'FastaiNotebook_10_mixup_ls' (15 sources)\n",
      "/home/jupyter/swift/usr/bin/swiftc: /home/jupyter/anaconda3/envs/swift/lib/libuuid.so.1: no version information available (required by /home/jupyter/swift/usr/bin/swiftc)\n",
      "\n",
      "/home/jupyter/swift/usr/bin/swift: /home/jupyter/anaconda3/envs/swift/lib/libuuid.so.1: no version information available (required by /home/jupyter/swift/usr/bin/swift)\n",
      "\n",
      "/home/jupyter/swift/usr/bin/swift: /home/jupyter/anaconda3/envs/swift/lib/libuuid.so.1: no version information available (required by /home/jupyter/swift/usr/bin/swift)\n",
      "\n",
      "/home/jupyter/swift/usr/bin/swift: /home/jupyter/anaconda3/envs/swift/lib/libuuid.so.1: no version information available (required by /home/jupyter/swift/usr/bin/swift)\n",
      "\n",
      "Compile Swift Module 'jupyterInstalledPackages' (1 sources)\n",
      "/home/jupyter/swift/usr/bin/swiftc: /home/jupyter/anaconda3/envs/swift/lib/libuuid.so.1: no version information available (required by /home/jupyter/swift/usr/bin/swiftc)\n",
      "\n",
      "/home/jupyter/swift/usr/bin/swift: /home/jupyter/anaconda3/envs/swift/lib/libuuid.so.1: no version information available (required by /home/jupyter/swift/usr/bin/swift)\n",
      "\n",
      "/home/jupyter/swift/usr/bin/swift: /home/jupyter/anaconda3/envs/swift/lib/libuuid.so.1: no version information available (required by /home/jupyter/swift/usr/bin/swift)\n",
      "\n",
      "Linking ./.build/x86_64-unknown-linux/debug/libjupyterInstalledPackages.so\n",
      "/home/jupyter/swift/usr/bin/swiftc: /home/jupyter/anaconda3/envs/swift/lib/libuuid.so.1: no version information available (required by /home/jupyter/swift/usr/bin/swiftc)\n",
      "\n",
      "/home/jupyter/swift/usr/bin/swift-autolink-extract: /home/jupyter/anaconda3/envs/swift/lib/libuuid.so.1: no version information available (required by /home/jupyter/swift/usr/bin/swift-autolink-extract)\n",
      "\n",
      "Initializing Swift...\n",
      "Installation complete!\n"
     ]
    }
   ],
   "source": [
    "%install-location $cwd/swift-install\n",
    "%install '.package(path: \"$cwd/FastaiNotebook_10_mixup_ls\")' FastaiNotebook_10_mixup_ls"
   ]
  },
  {
   "cell_type": "code",
   "execution_count": null,
   "metadata": {},
   "outputs": [],
   "source": [
    "import Foundation\n",
    "import TensorFlow\n",
    "import FastaiNotebook_10_mixup_ls\n",
    "import Path"
   ]
  },
  {
   "cell_type": "code",
   "execution_count": null,
   "metadata": {},
   "outputs": [
    {
     "data": {
      "text/plain": [
       "('inline', 'module://ipykernel.pylab.backend_inline')\n"
      ]
     },
     "execution_count": null,
     "metadata": {},
     "output_type": "execute_result"
    }
   ],
   "source": [
    "%include \"EnableIPythonDisplay.swift\"\n",
    "IPythonDisplay.shell.enable_matplotlib(\"inline\")"
   ]
  },
  {
   "cell_type": "markdown",
   "metadata": {},
   "source": [
    "## Loading the data"
   ]
  },
  {
   "cell_type": "markdown",
   "metadata": {},
   "source": [
    "Luckily, TensorFlow has a \"decodeWav\" function. Let's extend the StringTensor to provide swifty access to this function, the same way we did with JPGs."
   ]
  },
  {
   "cell_type": "code",
   "execution_count": null,
   "metadata": {},
   "outputs": [],
   "source": [
    "public extension StringTensor {\n",
    "    // Decode a StringTensor holding a path to a WAV file into (audio: Tensor<Float>, sampleRate: Tensor<Int32>)\n",
    "    func decodeWav() -> (audio: Tensor<Float>, sampleRate: Tensor<Int32>) {\n",
    "        return Raw.decodeWav(contents: self)\n",
    "    }\n",
    "}"
   ]
  },
  {
   "cell_type": "code",
   "execution_count": null,
   "metadata": {},
   "outputs": [],
   "source": [
    "let wav_file = \"m0005_us_m0005_00445.wav\""
   ]
  },
  {
   "cell_type": "code",
   "execution_count": null,
   "metadata": {},
   "outputs": [],
   "source": [
    "let (sig, sr) = StringTensor(readFile: wav_file).decodeWav()"
   ]
  },
  {
   "cell_type": "markdown",
   "metadata": {},
   "source": [
    "### To Spectrogram"
   ]
  },
  {
   "cell_type": "code",
   "execution_count": null,
   "metadata": {},
   "outputs": [],
   "source": [
    "let spec = Raw.audioSpectrogram(sig, \n",
    "                                windowSize: 1024, stride: 256, magnitudeSquared: false)"
   ]
  },
  {
   "cell_type": "code",
   "execution_count": null,
   "metadata": {},
   "outputs": [],
   "source": [
    "func showSpec(s: Tensor<Float>) {\n",
    "    plt.imshow(s.makeNumpyArray()[0], cmap: \"plasma\")\n",
    "    plt.show()\n",
    "    print(\"Shape: \\(s.shape)\\nMin:\\(s.min()), max: \\(s.max()), mean: \\(s.mean()), var: \\(s.variance())\")\n",
    "}"
   ]
  },
  {
   "cell_type": "code",
   "execution_count": null,
   "metadata": {},
   "outputs": [
    {
     "data": {
      "image/png": "[encoded data removed]",
      "text/plain": [
       "<Figure size 432x288 with 1 Axes>"
      ]
     },
     "metadata": {
      "needs_background": "light"
     },
     "output_type": "display_data"
    },
    {
     "name": "stdout",
     "output_type": "stream",
     "text": [
      "Shape: TensorShape(dimensions: [1, 154, 513])\r\n",
      "Min:4.9222303e-06, max: 24.352493, mean: 0.12011659, var: 0.1986352\r\n"
     ]
    }
   ],
   "source": [
    "showSpec(s: spec)"
   ]
  },
  {
   "cell_type": "markdown",
   "metadata": {},
   "source": [
    "### To MFCCs"
   ]
  },
  {
   "cell_type": "markdown",
   "metadata": {},
   "source": [
    "Note that MFCCs are different from melspectrograms. It seems TF doesn't have a melspectrogram transform built-in. MFCCs at least have been used before so it doesn't seem crazy to use them instead, although they are generally used to intentionally reduce the dimensionality of the data, so we might be throwing away info that the NN could use. On the other hand we might be making it easier for the NN to find features it would've had to spend time finding itself. We'll give it a shot. On the plus side, it means much \"smaller images\"."
   ]
  },
  {
   "cell_type": "markdown",
   "metadata": {},
   "source": [
    "[TF defaults](https://github.com/tensorflow/tensorflow/blob/master/tensorflow/core/ops/audio_ops.cc#L147) for MFCCs:\n",
    "```\n",
    "    .Attr(\"upper_frequency_limit: float = 4000\")\n",
    "    .Attr(\"lower_frequency_limit: float = 20\")\n",
    "    .Attr(\"filterbank_channel_count: int = 40\")\n",
    "    .Attr(\"dct_coefficient_count: int = 13\")\n",
    "```"
   ]
  },
  {
   "cell_type": "code",
   "execution_count": null,
   "metadata": {},
   "outputs": [],
   "source": [
    "let mfccs = Raw.mfcc(spectrogram: spec, sampleRate: sr, \n",
    "                       upperFrequencyLimit: 8000, lowerFrequencyLimit: 20, \n",
    "                       filterbankChannelCount: 40, dctCoefficientCount: 13)"
   ]
  },
  {
   "cell_type": "code",
   "execution_count": null,
   "metadata": {},
   "outputs": [
    {
     "data": {
      "image/png": "[encoded data removed]",
      "text/plain": [
       "<Figure size 432x288 with 1 Axes>"
      ]
     },
     "metadata": {
      "needs_background": "light"
     },
     "output_type": "display_data"
    },
    {
     "name": "stdout",
     "output_type": "stream",
     "text": [
      "Shape: TensorShape(dimensions: [1, 154, 13])\r\n",
      "Min:-7.5308914, max: 15.715063, mean: 0.08064073, var: 6.4020457\r\n"
     ]
    }
   ],
   "source": [
    "showSpec(s: mfccs)"
   ]
  },
  {
   "cell_type": "code",
   "execution_count": null,
   "metadata": {},
   "outputs": [],
   "source": []
  }
 ],
 "metadata": {
  "kernelspec": {
   "display_name": "Swift",
   "language": "swift",
   "name": "swift"
  }
 },
 "nbformat": 4,
 "nbformat_minor": 2
}
